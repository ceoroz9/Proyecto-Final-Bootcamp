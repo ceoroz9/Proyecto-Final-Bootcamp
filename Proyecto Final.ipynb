{
 "cells": [
  {
   "cell_type": "markdown",
   "metadata": {},
   "source": [
    "Hola &#x1F600;\n",
    "\n",
    "Soy **Hesus Garcia**  como \"Jesús\" pero con H. Sé que puede ser confuso al principio, pero una vez que lo recuerdes, ¡nunca lo olvidarás! &#x1F31D;\t. Como revisor de código de Triple-Ten, estoy emocionado de examinar tus proyectos y ayudarte a mejorar tus habilidades en programación. si has cometido algún error, no te preocupes, pues ¡estoy aquí para ayudarte a corregirlo y hacer que tu código brille! &#x1F31F;. Si encuentro algún detalle en tu código, te lo señalaré para que lo corrijas, ya que mi objetivo es ayudarte a prepararte para un ambiente de trabajo real, donde el líder de tu equipo actuaría de la misma manera. Si no puedes solucionar el problema, te proporcionaré más información en la próxima oportunidad. Cuando encuentres un comentario,  **por favor, no los muevas, no los modifiques ni los borres**. \n",
    "\n",
    "Revisaré cuidadosamente todas las implementaciones que has realizado para cumplir con los requisitos y te proporcionaré mis comentarios de la siguiente manera:\n",
    "\n",
    "\n",
    "<div class=\"alert alert-block alert-success\">\n",
    "<b>Comentario del revisor</b> <a class=“tocSkip”></a>\n",
    "Si todo está perfecto.\n",
    "</div>\n",
    "\n",
    "<div class=\"alert alert-block alert-warning\">\n",
    "<b>Comentario del revisor</b> <a class=“tocSkip”></a>\n",
    "Si tu código está bien pero se puede mejorar o hay algún detalle que le hace falta.\n",
    "</div>\n",
    "\n",
    "<div class=\"alert alert-block alert-danger\">\n",
    "<b>Comentario del revisor</b> <a class=“tocSkip”></a>\n",
    "Si de pronto hace falta algo o existe algún problema con tu código o conclusiones.\n",
    "</div>\n",
    "\n",
    "Puedes responderme de esta forma:\n",
    "<div class=\"alert alert-block alert-info\">\n",
    "<b>Respuesta del estudiante</b> <a class=“tocSkip”></a>\n",
    "</div>\n",
    "\n",
    "</br>\n",
    "\n",
    "**¡Empecemos!**  &#x1F680;"
   ]
  },
  {
   "cell_type": "markdown",
   "metadata": {},
   "source": [
    "# Descripción del Proyecto Final\n",
    "\n",
    "# Condiciones de la asignación principal\n",
    "\n",
    "Al operador de telecomunicaciones Interconnect le gustaría poder pronosticar su tasa de cancelación de clientes. Si se descubre que un usuario o usuaria planea irse, se le ofrecerán códigos promocionales y opciones de planes especiales. El equipo de marketing de Interconnect ha recopilado algunos de los datos personales de sus clientes, incluyendo información sobre sus planes y contratos.\n",
    "\n",
    "# Servicios de Interconnect\n",
    "\n",
    "Interconnect proporciona principalmente dos tipos de servicios:\n",
    "\n",
    "Comunicación por teléfono fijo. El teléfono se puede conectar a varias líneas de manera simultánea.\n",
    "Internet. La red se puede configurar a través de una línea telefónica (DSL, línea de abonado digital) o a través de un cable de fibra óptica.\n",
    "Algunos otros servicios que ofrece la empresa incluyen:\n",
    "\n",
    "Seguridad en Internet: software antivirus (ProtecciónDeDispositivo) y un bloqueador de sitios web maliciosos (SeguridadEnLínea).\n",
    "Una línea de soporte técnico (SoporteTécnico).\n",
    "Almacenamiento de archivos en la nube y backup de datos (BackupOnline).\n",
    "Streaming de TV (StreamingTV) y directorio de películas (StreamingPelículas)\n",
    "La clientela puede elegir entre un pago mensual o firmar un contrato de 1 o 2 años. Puede utilizar varios métodos de pago y recibir una factura electrónica después de una transacción.\n",
    "\n",
    "# Descripción de los datos\n",
    "\n",
    "Los datos consisten en archivos obtenidos de diferentes fuentes:\n",
    "\n",
    "- contract.csv — información del contrato;\n",
    "- personal.csv — datos personales del cliente;\n",
    "- internet.csv — información sobre los servicios de Internet;\n",
    "- phone.csv — información sobre los servicios telefónicos.\n",
    "\n",
    "En cada archivo, la columna customerID (ID de cliente) contiene un código único asignado a cada cliente. La información del contrato es válida a partir del 1 de febrero de 2020."
   ]
  },
  {
   "cell_type": "markdown",
   "metadata": {},
   "source": [
    "# Tabla de Contenido \n",
    "* [Descripción del Proyecto](#description)\n",
    "* [Descripción de los Datos](#data)\n",
    "* [Paso 1. Carga de Datos](#understanding)\n",
    "* [Paso 2. Preprocesamiento de Data](#preprocessing)\n",
    "* [Paso 3. Análisis Exploratorio](#eda)\n",
    "* [Paso 4. Entrenamiento del Modelo](#modeltrain)  \n",
    "* [Paso 5. Testing Final](#test)\n",
    "* [ Paso 6. Conclusiones](#allconclusion)"
   ]
  },
  {
   "cell_type": "markdown",
   "metadata": {},
   "source": [
    "<div class=\"alert alert-block alert-warning\">\n",
    "<b>Comentario del revisor</b> <a class=“tocSkip”></a>\n",
    "Considera la posibilidad de incluir una tabla de contenidos al inicio de tu proyecto. Esto no solo mejorará la estructura y presentación de tu análisis, sino que también facilitará la navegación y comprensión de los distintos temas tratados, especialmente para proyectos extensos con múltiples secciones y subsecciones. Una tabla de contenidos bien organizada puede mejorar significativamente la experiencia del lector y destacar la profesionalidad de tu trabajo.\n",
    "</div>\n"
   ]
  },
  {
   "cell_type": "markdown",
   "metadata": {},
   "source": [
    "## Carga de Datos"
   ]
  },
  {
   "cell_type": "code",
   "execution_count": 1,
   "metadata": {},
   "outputs": [],
   "source": [
    "import pandas as pd\n",
    "import numpy as np\n",
    "import matplotlib.pyplot as plt\n",
    "import seaborn as sns\n",
    "from sklearn.metrics import roc_auc_score, accuracy_score, roc_curve\n",
    "from sklearn.utils import shuffle\n",
    "from sklearn.preprocessing import OrdinalEncoder, StandardScaler\n",
    "from sklearn.model_selection import train_test_split, cross_val_score, GridSearchCV\n",
    "from sklearn.linear_model import LogisticRegression\n",
    "from sklearn.tree import DecisionTreeClassifier\n",
    "from sklearn.ensemble import RandomForestClassifier\n",
    "from lightgbm import LGBMClassifier\n",
    "from catboost import CatBoostClassifier\n",
    "from sklearn.model_selection import GridSearchCV, cross_val_score, train_test_split\n",
    "from sklearn.metrics import mean_squared_error, make_scorer"
   ]
  },
  {
   "cell_type": "code",
   "execution_count": 2,
   "metadata": {},
   "outputs": [],
   "source": [
    "contract=pd.read_csv('/datasets/final_provider/contract.csv')\n",
    "personal=pd.read_csv('/datasets/final_provider/personal.csv')\n",
    "internet=pd.read_csv('/datasets/final_provider/internet.csv')\n",
    "phone=pd.read_csv('/datasets/final_provider/phone.csv')"
   ]
  },
  {
   "cell_type": "code",
   "execution_count": 3,
   "metadata": {},
   "outputs": [
    {
     "data": {
      "text/html": [
       "<div>\n",
       "<style scoped>\n",
       "    .dataframe tbody tr th:only-of-type {\n",
       "        vertical-align: middle;\n",
       "    }\n",
       "\n",
       "    .dataframe tbody tr th {\n",
       "        vertical-align: top;\n",
       "    }\n",
       "\n",
       "    .dataframe thead th {\n",
       "        text-align: right;\n",
       "    }\n",
       "</style>\n",
       "<table border=\"1\" class=\"dataframe\">\n",
       "  <thead>\n",
       "    <tr style=\"text-align: right;\">\n",
       "      <th></th>\n",
       "      <th>customerID</th>\n",
       "      <th>BeginDate</th>\n",
       "      <th>EndDate</th>\n",
       "      <th>Type</th>\n",
       "      <th>PaperlessBilling</th>\n",
       "      <th>PaymentMethod</th>\n",
       "      <th>MonthlyCharges</th>\n",
       "      <th>TotalCharges</th>\n",
       "    </tr>\n",
       "  </thead>\n",
       "  <tbody>\n",
       "    <tr>\n",
       "      <th>0</th>\n",
       "      <td>7590-VHVEG</td>\n",
       "      <td>2020-01-01</td>\n",
       "      <td>No</td>\n",
       "      <td>Month-to-month</td>\n",
       "      <td>Yes</td>\n",
       "      <td>Electronic check</td>\n",
       "      <td>29.85</td>\n",
       "      <td>29.85</td>\n",
       "    </tr>\n",
       "    <tr>\n",
       "      <th>1</th>\n",
       "      <td>5575-GNVDE</td>\n",
       "      <td>2017-04-01</td>\n",
       "      <td>No</td>\n",
       "      <td>One year</td>\n",
       "      <td>No</td>\n",
       "      <td>Mailed check</td>\n",
       "      <td>56.95</td>\n",
       "      <td>1889.5</td>\n",
       "    </tr>\n",
       "    <tr>\n",
       "      <th>2</th>\n",
       "      <td>3668-QPYBK</td>\n",
       "      <td>2019-10-01</td>\n",
       "      <td>2019-12-01 00:00:00</td>\n",
       "      <td>Month-to-month</td>\n",
       "      <td>Yes</td>\n",
       "      <td>Mailed check</td>\n",
       "      <td>53.85</td>\n",
       "      <td>108.15</td>\n",
       "    </tr>\n",
       "    <tr>\n",
       "      <th>3</th>\n",
       "      <td>7795-CFOCW</td>\n",
       "      <td>2016-05-01</td>\n",
       "      <td>No</td>\n",
       "      <td>One year</td>\n",
       "      <td>No</td>\n",
       "      <td>Bank transfer (automatic)</td>\n",
       "      <td>42.30</td>\n",
       "      <td>1840.75</td>\n",
       "    </tr>\n",
       "    <tr>\n",
       "      <th>4</th>\n",
       "      <td>9237-HQITU</td>\n",
       "      <td>2019-09-01</td>\n",
       "      <td>2019-11-01 00:00:00</td>\n",
       "      <td>Month-to-month</td>\n",
       "      <td>Yes</td>\n",
       "      <td>Electronic check</td>\n",
       "      <td>70.70</td>\n",
       "      <td>151.65</td>\n",
       "    </tr>\n",
       "  </tbody>\n",
       "</table>\n",
       "</div>"
      ],
      "text/plain": [
       "   customerID   BeginDate              EndDate            Type  \\\n",
       "0  7590-VHVEG  2020-01-01                   No  Month-to-month   \n",
       "1  5575-GNVDE  2017-04-01                   No        One year   \n",
       "2  3668-QPYBK  2019-10-01  2019-12-01 00:00:00  Month-to-month   \n",
       "3  7795-CFOCW  2016-05-01                   No        One year   \n",
       "4  9237-HQITU  2019-09-01  2019-11-01 00:00:00  Month-to-month   \n",
       "\n",
       "  PaperlessBilling              PaymentMethod  MonthlyCharges TotalCharges  \n",
       "0              Yes           Electronic check           29.85        29.85  \n",
       "1               No               Mailed check           56.95       1889.5  \n",
       "2              Yes               Mailed check           53.85       108.15  \n",
       "3               No  Bank transfer (automatic)           42.30      1840.75  \n",
       "4              Yes           Electronic check           70.70       151.65  "
      ]
     },
     "execution_count": 3,
     "metadata": {},
     "output_type": "execute_result"
    }
   ],
   "source": [
    "contract.head()"
   ]
  },
  {
   "cell_type": "code",
   "execution_count": 4,
   "metadata": {},
   "outputs": [
    {
     "name": "stdout",
     "output_type": "stream",
     "text": [
      "<class 'pandas.core.frame.DataFrame'>\n",
      "RangeIndex: 7043 entries, 0 to 7042\n",
      "Data columns (total 8 columns):\n",
      " #   Column            Non-Null Count  Dtype  \n",
      "---  ------            --------------  -----  \n",
      " 0   customerID        7043 non-null   object \n",
      " 1   BeginDate         7043 non-null   object \n",
      " 2   EndDate           7043 non-null   object \n",
      " 3   Type              7043 non-null   object \n",
      " 4   PaperlessBilling  7043 non-null   object \n",
      " 5   PaymentMethod     7043 non-null   object \n",
      " 6   MonthlyCharges    7043 non-null   float64\n",
      " 7   TotalCharges      7043 non-null   object \n",
      "dtypes: float64(1), object(7)\n",
      "memory usage: 440.3+ KB\n"
     ]
    }
   ],
   "source": [
    "contract.info()"
   ]
  },
  {
   "cell_type": "markdown",
   "metadata": {},
   "source": [
    "- BeginDate y EndDate deben ser de tipo datetime. Type, PaperlessBilling y PaymentMethod deben ser de tipo category. CustomerID puede permanecer como está y el total de cargos puede cambiarse a flotante"
   ]
  },
  {
   "cell_type": "code",
   "execution_count": 5,
   "metadata": {},
   "outputs": [
    {
     "data": {
      "text/html": [
       "<div>\n",
       "<style scoped>\n",
       "    .dataframe tbody tr th:only-of-type {\n",
       "        vertical-align: middle;\n",
       "    }\n",
       "\n",
       "    .dataframe tbody tr th {\n",
       "        vertical-align: top;\n",
       "    }\n",
       "\n",
       "    .dataframe thead th {\n",
       "        text-align: right;\n",
       "    }\n",
       "</style>\n",
       "<table border=\"1\" class=\"dataframe\">\n",
       "  <thead>\n",
       "    <tr style=\"text-align: right;\">\n",
       "      <th></th>\n",
       "      <th>customerID</th>\n",
       "      <th>gender</th>\n",
       "      <th>SeniorCitizen</th>\n",
       "      <th>Partner</th>\n",
       "      <th>Dependents</th>\n",
       "    </tr>\n",
       "  </thead>\n",
       "  <tbody>\n",
       "    <tr>\n",
       "      <th>0</th>\n",
       "      <td>7590-VHVEG</td>\n",
       "      <td>Female</td>\n",
       "      <td>0</td>\n",
       "      <td>Yes</td>\n",
       "      <td>No</td>\n",
       "    </tr>\n",
       "    <tr>\n",
       "      <th>1</th>\n",
       "      <td>5575-GNVDE</td>\n",
       "      <td>Male</td>\n",
       "      <td>0</td>\n",
       "      <td>No</td>\n",
       "      <td>No</td>\n",
       "    </tr>\n",
       "    <tr>\n",
       "      <th>2</th>\n",
       "      <td>3668-QPYBK</td>\n",
       "      <td>Male</td>\n",
       "      <td>0</td>\n",
       "      <td>No</td>\n",
       "      <td>No</td>\n",
       "    </tr>\n",
       "    <tr>\n",
       "      <th>3</th>\n",
       "      <td>7795-CFOCW</td>\n",
       "      <td>Male</td>\n",
       "      <td>0</td>\n",
       "      <td>No</td>\n",
       "      <td>No</td>\n",
       "    </tr>\n",
       "    <tr>\n",
       "      <th>4</th>\n",
       "      <td>9237-HQITU</td>\n",
       "      <td>Female</td>\n",
       "      <td>0</td>\n",
       "      <td>No</td>\n",
       "      <td>No</td>\n",
       "    </tr>\n",
       "  </tbody>\n",
       "</table>\n",
       "</div>"
      ],
      "text/plain": [
       "   customerID  gender  SeniorCitizen Partner Dependents\n",
       "0  7590-VHVEG  Female              0     Yes         No\n",
       "1  5575-GNVDE    Male              0      No         No\n",
       "2  3668-QPYBK    Male              0      No         No\n",
       "3  7795-CFOCW    Male              0      No         No\n",
       "4  9237-HQITU  Female              0      No         No"
      ]
     },
     "execution_count": 5,
     "metadata": {},
     "output_type": "execute_result"
    }
   ],
   "source": [
    "personal.head()"
   ]
  },
  {
   "cell_type": "code",
   "execution_count": 6,
   "metadata": {},
   "outputs": [
    {
     "name": "stdout",
     "output_type": "stream",
     "text": [
      "<class 'pandas.core.frame.DataFrame'>\n",
      "RangeIndex: 7043 entries, 0 to 7042\n",
      "Data columns (total 5 columns):\n",
      " #   Column         Non-Null Count  Dtype \n",
      "---  ------         --------------  ----- \n",
      " 0   customerID     7043 non-null   object\n",
      " 1   gender         7043 non-null   object\n",
      " 2   SeniorCitizen  7043 non-null   int64 \n",
      " 3   Partner        7043 non-null   object\n",
      " 4   Dependents     7043 non-null   object\n",
      "dtypes: int64(1), object(4)\n",
      "memory usage: 275.2+ KB\n"
     ]
    }
   ],
   "source": [
    "personal.info()"
   ]
  },
  {
   "cell_type": "markdown",
   "metadata": {},
   "source": [
    "- Todas las columnas deben cambiarse al tipo categórico, menos la de customerID"
   ]
  },
  {
   "cell_type": "code",
   "execution_count": 7,
   "metadata": {},
   "outputs": [
    {
     "data": {
      "text/html": [
       "<div>\n",
       "<style scoped>\n",
       "    .dataframe tbody tr th:only-of-type {\n",
       "        vertical-align: middle;\n",
       "    }\n",
       "\n",
       "    .dataframe tbody tr th {\n",
       "        vertical-align: top;\n",
       "    }\n",
       "\n",
       "    .dataframe thead th {\n",
       "        text-align: right;\n",
       "    }\n",
       "</style>\n",
       "<table border=\"1\" class=\"dataframe\">\n",
       "  <thead>\n",
       "    <tr style=\"text-align: right;\">\n",
       "      <th></th>\n",
       "      <th>customerID</th>\n",
       "      <th>InternetService</th>\n",
       "      <th>OnlineSecurity</th>\n",
       "      <th>OnlineBackup</th>\n",
       "      <th>DeviceProtection</th>\n",
       "      <th>TechSupport</th>\n",
       "      <th>StreamingTV</th>\n",
       "      <th>StreamingMovies</th>\n",
       "    </tr>\n",
       "  </thead>\n",
       "  <tbody>\n",
       "    <tr>\n",
       "      <th>0</th>\n",
       "      <td>7590-VHVEG</td>\n",
       "      <td>DSL</td>\n",
       "      <td>No</td>\n",
       "      <td>Yes</td>\n",
       "      <td>No</td>\n",
       "      <td>No</td>\n",
       "      <td>No</td>\n",
       "      <td>No</td>\n",
       "    </tr>\n",
       "    <tr>\n",
       "      <th>1</th>\n",
       "      <td>5575-GNVDE</td>\n",
       "      <td>DSL</td>\n",
       "      <td>Yes</td>\n",
       "      <td>No</td>\n",
       "      <td>Yes</td>\n",
       "      <td>No</td>\n",
       "      <td>No</td>\n",
       "      <td>No</td>\n",
       "    </tr>\n",
       "    <tr>\n",
       "      <th>2</th>\n",
       "      <td>3668-QPYBK</td>\n",
       "      <td>DSL</td>\n",
       "      <td>Yes</td>\n",
       "      <td>Yes</td>\n",
       "      <td>No</td>\n",
       "      <td>No</td>\n",
       "      <td>No</td>\n",
       "      <td>No</td>\n",
       "    </tr>\n",
       "    <tr>\n",
       "      <th>3</th>\n",
       "      <td>7795-CFOCW</td>\n",
       "      <td>DSL</td>\n",
       "      <td>Yes</td>\n",
       "      <td>No</td>\n",
       "      <td>Yes</td>\n",
       "      <td>Yes</td>\n",
       "      <td>No</td>\n",
       "      <td>No</td>\n",
       "    </tr>\n",
       "    <tr>\n",
       "      <th>4</th>\n",
       "      <td>9237-HQITU</td>\n",
       "      <td>Fiber optic</td>\n",
       "      <td>No</td>\n",
       "      <td>No</td>\n",
       "      <td>No</td>\n",
       "      <td>No</td>\n",
       "      <td>No</td>\n",
       "      <td>No</td>\n",
       "    </tr>\n",
       "  </tbody>\n",
       "</table>\n",
       "</div>"
      ],
      "text/plain": [
       "   customerID InternetService OnlineSecurity OnlineBackup DeviceProtection  \\\n",
       "0  7590-VHVEG             DSL             No          Yes               No   \n",
       "1  5575-GNVDE             DSL            Yes           No              Yes   \n",
       "2  3668-QPYBK             DSL            Yes          Yes               No   \n",
       "3  7795-CFOCW             DSL            Yes           No              Yes   \n",
       "4  9237-HQITU     Fiber optic             No           No               No   \n",
       "\n",
       "  TechSupport StreamingTV StreamingMovies  \n",
       "0          No          No              No  \n",
       "1          No          No              No  \n",
       "2          No          No              No  \n",
       "3         Yes          No              No  \n",
       "4          No          No              No  "
      ]
     },
     "execution_count": 7,
     "metadata": {},
     "output_type": "execute_result"
    }
   ],
   "source": [
    "internet.head()"
   ]
  },
  {
   "cell_type": "code",
   "execution_count": 8,
   "metadata": {},
   "outputs": [
    {
     "name": "stdout",
     "output_type": "stream",
     "text": [
      "<class 'pandas.core.frame.DataFrame'>\n",
      "RangeIndex: 5517 entries, 0 to 5516\n",
      "Data columns (total 8 columns):\n",
      " #   Column            Non-Null Count  Dtype \n",
      "---  ------            --------------  ----- \n",
      " 0   customerID        5517 non-null   object\n",
      " 1   InternetService   5517 non-null   object\n",
      " 2   OnlineSecurity    5517 non-null   object\n",
      " 3   OnlineBackup      5517 non-null   object\n",
      " 4   DeviceProtection  5517 non-null   object\n",
      " 5   TechSupport       5517 non-null   object\n",
      " 6   StreamingTV       5517 non-null   object\n",
      " 7   StreamingMovies   5517 non-null   object\n",
      "dtypes: object(8)\n",
      "memory usage: 344.9+ KB\n"
     ]
    }
   ],
   "source": [
    "internet.info()"
   ]
  },
  {
   "cell_type": "markdown",
   "metadata": {},
   "source": [
    "- Nuevamente solo customerID se mantendrá igual, y también veo que en ésta hay menos filas, lo que significa que no todos los clientes están abonados al servicio de Internet"
   ]
  },
  {
   "cell_type": "code",
   "execution_count": 9,
   "metadata": {},
   "outputs": [
    {
     "data": {
      "text/html": [
       "<div>\n",
       "<style scoped>\n",
       "    .dataframe tbody tr th:only-of-type {\n",
       "        vertical-align: middle;\n",
       "    }\n",
       "\n",
       "    .dataframe tbody tr th {\n",
       "        vertical-align: top;\n",
       "    }\n",
       "\n",
       "    .dataframe thead th {\n",
       "        text-align: right;\n",
       "    }\n",
       "</style>\n",
       "<table border=\"1\" class=\"dataframe\">\n",
       "  <thead>\n",
       "    <tr style=\"text-align: right;\">\n",
       "      <th></th>\n",
       "      <th>customerID</th>\n",
       "      <th>MultipleLines</th>\n",
       "    </tr>\n",
       "  </thead>\n",
       "  <tbody>\n",
       "    <tr>\n",
       "      <th>0</th>\n",
       "      <td>5575-GNVDE</td>\n",
       "      <td>No</td>\n",
       "    </tr>\n",
       "    <tr>\n",
       "      <th>1</th>\n",
       "      <td>3668-QPYBK</td>\n",
       "      <td>No</td>\n",
       "    </tr>\n",
       "    <tr>\n",
       "      <th>2</th>\n",
       "      <td>9237-HQITU</td>\n",
       "      <td>No</td>\n",
       "    </tr>\n",
       "    <tr>\n",
       "      <th>3</th>\n",
       "      <td>9305-CDSKC</td>\n",
       "      <td>Yes</td>\n",
       "    </tr>\n",
       "    <tr>\n",
       "      <th>4</th>\n",
       "      <td>1452-KIOVK</td>\n",
       "      <td>Yes</td>\n",
       "    </tr>\n",
       "  </tbody>\n",
       "</table>\n",
       "</div>"
      ],
      "text/plain": [
       "   customerID MultipleLines\n",
       "0  5575-GNVDE            No\n",
       "1  3668-QPYBK            No\n",
       "2  9237-HQITU            No\n",
       "3  9305-CDSKC           Yes\n",
       "4  1452-KIOVK           Yes"
      ]
     },
     "execution_count": 9,
     "metadata": {},
     "output_type": "execute_result"
    }
   ],
   "source": [
    "phone.head()"
   ]
  },
  {
   "cell_type": "code",
   "execution_count": 10,
   "metadata": {},
   "outputs": [
    {
     "name": "stdout",
     "output_type": "stream",
     "text": [
      "<class 'pandas.core.frame.DataFrame'>\n",
      "RangeIndex: 6361 entries, 0 to 6360\n",
      "Data columns (total 2 columns):\n",
      " #   Column         Non-Null Count  Dtype \n",
      "---  ------         --------------  ----- \n",
      " 0   customerID     6361 non-null   object\n",
      " 1   MultipleLines  6361 non-null   object\n",
      "dtypes: object(2)\n",
      "memory usage: 99.5+ KB\n"
     ]
    }
   ],
   "source": [
    "phone.info()"
   ]
  },
  {
   "cell_type": "markdown",
   "metadata": {},
   "source": [
    "- Parece que estas últimas tablas tienen menos filas que las dos primeras. Además, la columna 'MultipleLines' necesita convertirse en una categórica.  Al final, voy a tener que unir todas estas tablas, pero como no tienen la misma cantidad de filas, seguramente faltarán algunos datos."
   ]
  },
  {
   "cell_type": "markdown",
   "metadata": {},
   "source": [
    "## Preprocesamiento de Datos"
   ]
  },
  {
   "cell_type": "markdown",
   "metadata": {},
   "source": [
    "- Convertiré \"TotalCharges\" a decimales.\n",
    "- Cambiaré algunas columnas a formato categórico.\n",
    "- En \"EndDate\", \"No\" significará que el cliente no se fue.\n",
    "- Crearé una columna \"churn\": 0 si se queda, 1 si se va.\n",
    "- Esta columna \"churn\" es nuestro objetivo principal."
   ]
  },
  {
   "cell_type": "markdown",
   "metadata": {},
   "source": [
    "- Información de Contrato"
   ]
  },
  {
   "cell_type": "code",
   "execution_count": 11,
   "metadata": {},
   "outputs": [],
   "source": [
    "contract['Type']=contract['Type'].astype('category')\n",
    "contract['PaperlessBilling']=contract['PaperlessBilling'].astype('category')\n",
    "contract['PaymentMethod']=contract['PaymentMethod'].astype('category')\n",
    "contract['TotalCharges']=pd.to_numeric(contract['TotalCharges'], errors='coerce')\n",
    "contract['churn'] = (contract['EndDate'] != \"No\").astype(\"int\")"
   ]
  },
  {
   "cell_type": "markdown",
   "metadata": {},
   "source": [
    "- También puedo crear una columna llamada 'days' para ver cuánto tiempo estuvieron los clientes con nosotros. Para eso, voy a sacar la diferencia entre la 'EndDate' y la 'BeginDate. Por ahora estas fechas están como texto. Lo que haré es reemplazar todos los 'No' en 'EndDate' por el día en que tomamos los datos, que fue el 1 de febrero de 2020. Los pondré en el mismo formato que tienen las otras fechas (2020-02-01 00:00:00) para que sea más fácil convertir la columna a un formato de fecha y hora. Ya con esto podré calcular la diferencia entre fechas y guardarla en la nueva columna 'days'."
   ]
  },
  {
   "cell_type": "code",
   "execution_count": 12,
   "metadata": {},
   "outputs": [
    {
     "name": "stdout",
     "output_type": "stream",
     "text": [
      "<class 'pandas.core.frame.DataFrame'>\n",
      "RangeIndex: 7043 entries, 0 to 7042\n",
      "Data columns (total 9 columns):\n",
      " #   Column            Non-Null Count  Dtype         \n",
      "---  ------            --------------  -----         \n",
      " 0   customerID        7043 non-null   object        \n",
      " 1   BeginDate         7043 non-null   datetime64[ns]\n",
      " 2   EndDate           7043 non-null   datetime64[ns]\n",
      " 3   Type              7043 non-null   category      \n",
      " 4   PaperlessBilling  7043 non-null   category      \n",
      " 5   PaymentMethod     7043 non-null   category      \n",
      " 6   MonthlyCharges    7043 non-null   float64       \n",
      " 7   TotalCharges      7032 non-null   float64       \n",
      " 8   churn             7043 non-null   int64         \n",
      "dtypes: category(3), datetime64[ns](2), float64(2), int64(1), object(1)\n",
      "memory usage: 351.3+ KB\n"
     ]
    }
   ],
   "source": [
    "contract['EndDate']=contract['EndDate'].replace('No','2020-02-01 00:00:00')\n",
    "contract['BeginDate']=pd.to_datetime(contract['BeginDate'], format='%Y-%m-%d')\n",
    "contract['EndDate']=pd.to_datetime(contract['EndDate'], format='%Y-%m-%d %H:%M:%S', errors='coerce')\n",
    "contract.info()"
   ]
  },
  {
   "cell_type": "code",
   "execution_count": 13,
   "metadata": {},
   "outputs": [
    {
     "data": {
      "text/plain": [
       "array([  31, 1036,   61, 1371,  245,  671,  306,  853, 1888,  396,  488,\n",
       "       1767, 1491,  761, 2102, 1584, 2163,  304,  641,   30,  365, 1492,\n",
       "        914, 1431, 2191,  518,   62,  822,  153, 1401, 1033,  335, 2132,\n",
       "       1918, 1310,  456, 1826,  549, 2010, 1432,  275,   92,  945, 1523,\n",
       "       1949, 1706,  337,  214, 1279,  276, 1067, 1461,  883, 1979, 1157,\n",
       "       2071,  975, 1675, 1126, 1095,  303, 1248,  184,   91,  215,  123,\n",
       "       1006, 2041,  702, 1737,  242, 1857,  457,  427,  610, 1614,  395,\n",
       "       1218, 1798,  730, 1340,  579,  122, 1645, 1553,  580, 1795,  487,\n",
       "       1583,  548,  974, 1156, 1309, 1917,  640,  760,  334, 2101,  669,\n",
       "       1676, 1856,  792,  852,    0, 1217,  699, 1186, 1065, 1703,  273,\n",
       "        607, 1003, 1369,  609, 1005, 1399, 1887, 1187, 1765, 2129,  638,\n",
       "       1522,  183, 1064, 1338, 2160,  972,  244,  791,  426, 1125, 1796,\n",
       "       2130, 1034, 1430,  913, 2040, 1278, 1400, 2009,  944, 1734, 2099,\n",
       "       1764,  700,  668, 1736, 1370, 1644, 2070,  821, 1705, 1948, 2068,\n",
       "       2161, 1552])"
      ]
     },
     "execution_count": 13,
     "metadata": {},
     "output_type": "execute_result"
    }
   ],
   "source": [
    "contract['days']=(contract['EndDate'] - contract['BeginDate']).dt.days\n",
    "contract['days'].unique()"
   ]
  },
  {
   "cell_type": "markdown",
   "metadata": {},
   "source": [
    "- Elimino las columnas \"date\" porque ya no me sirven"
   ]
  },
  {
   "cell_type": "code",
   "execution_count": 14,
   "metadata": {},
   "outputs": [],
   "source": [
    "contract_final=contract.drop(['BeginDate', 'EndDate'], axis=1)"
   ]
  },
  {
   "cell_type": "markdown",
   "metadata": {},
   "source": [
    "- Elimino las filas con valores que faltan al cambiar TotalCharges a tipo float"
   ]
  },
  {
   "cell_type": "code",
   "execution_count": 15,
   "metadata": {},
   "outputs": [],
   "source": [
    "contract_final.dropna(inplace=True)"
   ]
  },
  {
   "cell_type": "code",
   "execution_count": 16,
   "metadata": {},
   "outputs": [
    {
     "name": "stdout",
     "output_type": "stream",
     "text": [
      "<class 'pandas.core.frame.DataFrame'>\n",
      "Int64Index: 7032 entries, 0 to 7042\n",
      "Data columns (total 8 columns):\n",
      " #   Column            Non-Null Count  Dtype   \n",
      "---  ------            --------------  -----   \n",
      " 0   customerID        7032 non-null   object  \n",
      " 1   Type              7032 non-null   category\n",
      " 2   PaperlessBilling  7032 non-null   category\n",
      " 3   PaymentMethod     7032 non-null   category\n",
      " 4   MonthlyCharges    7032 non-null   float64 \n",
      " 5   TotalCharges      7032 non-null   float64 \n",
      " 6   churn             7032 non-null   int64   \n",
      " 7   days              7032 non-null   int64   \n",
      "dtypes: category(3), float64(2), int64(2), object(1)\n",
      "memory usage: 350.7+ KB\n"
     ]
    }
   ],
   "source": [
    "contract_final.info()"
   ]
  },
  {
   "cell_type": "markdown",
   "metadata": {},
   "source": [
    "- Ahora paso a Personal Information. Como se mencionó antes, cambio las columnas a tipo categórico, menos las de customerID"
   ]
  },
  {
   "cell_type": "code",
   "execution_count": 17,
   "metadata": {},
   "outputs": [],
   "source": [
    "personal['gender']=personal['gender'].astype('category')\n",
    "personal['Partner'] = personal['Partner'].astype(\"category\")\n",
    "personal['Dependents'] = personal['Dependents'].astype(\"category\")\n",
    "personal['SeniorCitizen'] = personal['SeniorCitizen'].astype(\"category\")"
   ]
  },
  {
   "cell_type": "code",
   "execution_count": 18,
   "metadata": {},
   "outputs": [
    {
     "name": "stdout",
     "output_type": "stream",
     "text": [
      "<class 'pandas.core.frame.DataFrame'>\n",
      "RangeIndex: 7043 entries, 0 to 7042\n",
      "Data columns (total 5 columns):\n",
      " #   Column         Non-Null Count  Dtype   \n",
      "---  ------         --------------  -----   \n",
      " 0   customerID     7043 non-null   object  \n",
      " 1   gender         7043 non-null   category\n",
      " 2   SeniorCitizen  7043 non-null   category\n",
      " 3   Partner        7043 non-null   category\n",
      " 4   Dependents     7043 non-null   category\n",
      "dtypes: category(4), object(1)\n",
      "memory usage: 83.1+ KB\n"
     ]
    }
   ],
   "source": [
    "personal.info()"
   ]
  },
  {
   "cell_type": "markdown",
   "metadata": {},
   "source": [
    "- No voy a convertir las columnas de las otras tablas a categorías todavía. Ya que sino, aparecerían valores NaN que tendría que reemplazar uno por uno. Para evitar eso, primero voy a fusionar las tablas. Lo haré juntándolas por la columna \"customerID\". Empezaré fusionando la tabla \"contract_final\" con la tabla \"personal\"."
   ]
  },
  {
   "cell_type": "code",
   "execution_count": 19,
   "metadata": {},
   "outputs": [
    {
     "data": {
      "text/html": [
       "<div>\n",
       "<style scoped>\n",
       "    .dataframe tbody tr th:only-of-type {\n",
       "        vertical-align: middle;\n",
       "    }\n",
       "\n",
       "    .dataframe tbody tr th {\n",
       "        vertical-align: top;\n",
       "    }\n",
       "\n",
       "    .dataframe thead th {\n",
       "        text-align: right;\n",
       "    }\n",
       "</style>\n",
       "<table border=\"1\" class=\"dataframe\">\n",
       "  <thead>\n",
       "    <tr style=\"text-align: right;\">\n",
       "      <th></th>\n",
       "      <th>customerID</th>\n",
       "      <th>gender</th>\n",
       "      <th>SeniorCitizen</th>\n",
       "      <th>Partner</th>\n",
       "      <th>Dependents</th>\n",
       "      <th>Type</th>\n",
       "      <th>PaperlessBilling</th>\n",
       "      <th>PaymentMethod</th>\n",
       "      <th>MonthlyCharges</th>\n",
       "      <th>TotalCharges</th>\n",
       "      <th>churn</th>\n",
       "      <th>days</th>\n",
       "    </tr>\n",
       "  </thead>\n",
       "  <tbody>\n",
       "    <tr>\n",
       "      <th>0</th>\n",
       "      <td>7590-VHVEG</td>\n",
       "      <td>Female</td>\n",
       "      <td>0</td>\n",
       "      <td>Yes</td>\n",
       "      <td>No</td>\n",
       "      <td>Month-to-month</td>\n",
       "      <td>Yes</td>\n",
       "      <td>Electronic check</td>\n",
       "      <td>29.85</td>\n",
       "      <td>29.85</td>\n",
       "      <td>0.0</td>\n",
       "      <td>31.0</td>\n",
       "    </tr>\n",
       "    <tr>\n",
       "      <th>1</th>\n",
       "      <td>5575-GNVDE</td>\n",
       "      <td>Male</td>\n",
       "      <td>0</td>\n",
       "      <td>No</td>\n",
       "      <td>No</td>\n",
       "      <td>One year</td>\n",
       "      <td>No</td>\n",
       "      <td>Mailed check</td>\n",
       "      <td>56.95</td>\n",
       "      <td>1889.50</td>\n",
       "      <td>0.0</td>\n",
       "      <td>1036.0</td>\n",
       "    </tr>\n",
       "    <tr>\n",
       "      <th>2</th>\n",
       "      <td>3668-QPYBK</td>\n",
       "      <td>Male</td>\n",
       "      <td>0</td>\n",
       "      <td>No</td>\n",
       "      <td>No</td>\n",
       "      <td>Month-to-month</td>\n",
       "      <td>Yes</td>\n",
       "      <td>Mailed check</td>\n",
       "      <td>53.85</td>\n",
       "      <td>108.15</td>\n",
       "      <td>1.0</td>\n",
       "      <td>61.0</td>\n",
       "    </tr>\n",
       "    <tr>\n",
       "      <th>3</th>\n",
       "      <td>7795-CFOCW</td>\n",
       "      <td>Male</td>\n",
       "      <td>0</td>\n",
       "      <td>No</td>\n",
       "      <td>No</td>\n",
       "      <td>One year</td>\n",
       "      <td>No</td>\n",
       "      <td>Bank transfer (automatic)</td>\n",
       "      <td>42.30</td>\n",
       "      <td>1840.75</td>\n",
       "      <td>0.0</td>\n",
       "      <td>1371.0</td>\n",
       "    </tr>\n",
       "    <tr>\n",
       "      <th>4</th>\n",
       "      <td>9237-HQITU</td>\n",
       "      <td>Female</td>\n",
       "      <td>0</td>\n",
       "      <td>No</td>\n",
       "      <td>No</td>\n",
       "      <td>Month-to-month</td>\n",
       "      <td>Yes</td>\n",
       "      <td>Electronic check</td>\n",
       "      <td>70.70</td>\n",
       "      <td>151.65</td>\n",
       "      <td>1.0</td>\n",
       "      <td>61.0</td>\n",
       "    </tr>\n",
       "  </tbody>\n",
       "</table>\n",
       "</div>"
      ],
      "text/plain": [
       "   customerID  gender SeniorCitizen Partner Dependents            Type  \\\n",
       "0  7590-VHVEG  Female             0     Yes         No  Month-to-month   \n",
       "1  5575-GNVDE    Male             0      No         No        One year   \n",
       "2  3668-QPYBK    Male             0      No         No  Month-to-month   \n",
       "3  7795-CFOCW    Male             0      No         No        One year   \n",
       "4  9237-HQITU  Female             0      No         No  Month-to-month   \n",
       "\n",
       "  PaperlessBilling              PaymentMethod  MonthlyCharges  TotalCharges  \\\n",
       "0              Yes           Electronic check           29.85         29.85   \n",
       "1               No               Mailed check           56.95       1889.50   \n",
       "2              Yes               Mailed check           53.85        108.15   \n",
       "3               No  Bank transfer (automatic)           42.30       1840.75   \n",
       "4              Yes           Electronic check           70.70        151.65   \n",
       "\n",
       "   churn    days  \n",
       "0    0.0    31.0  \n",
       "1    0.0  1036.0  \n",
       "2    1.0    61.0  \n",
       "3    0.0  1371.0  \n",
       "4    1.0    61.0  "
      ]
     },
     "execution_count": 19,
     "metadata": {},
     "output_type": "execute_result"
    }
   ],
   "source": [
    "merge_1=pd.merge(personal, contract_final, how=\"left\", on=\"customerID\")\n",
    "merge_1.head()"
   ]
  },
  {
   "cell_type": "markdown",
   "metadata": {},
   "source": [
    "- Quito los valores que faltan causados por la diferencia en el número de filas"
   ]
  },
  {
   "cell_type": "code",
   "execution_count": 20,
   "metadata": {},
   "outputs": [
    {
     "name": "stdout",
     "output_type": "stream",
     "text": [
      "<class 'pandas.core.frame.DataFrame'>\n",
      "Int64Index: 7032 entries, 0 to 7042\n",
      "Data columns (total 12 columns):\n",
      " #   Column            Non-Null Count  Dtype   \n",
      "---  ------            --------------  -----   \n",
      " 0   customerID        7032 non-null   object  \n",
      " 1   gender            7032 non-null   category\n",
      " 2   SeniorCitizen     7032 non-null   category\n",
      " 3   Partner           7032 non-null   category\n",
      " 4   Dependents        7032 non-null   category\n",
      " 5   Type              7032 non-null   category\n",
      " 6   PaperlessBilling  7032 non-null   category\n",
      " 7   PaymentMethod     7032 non-null   category\n",
      " 8   MonthlyCharges    7032 non-null   float64 \n",
      " 9   TotalCharges      7032 non-null   float64 \n",
      " 10  churn             7032 non-null   float64 \n",
      " 11  days              7032 non-null   float64 \n",
      "dtypes: category(7), float64(4), object(1)\n",
      "memory usage: 378.6+ KB\n"
     ]
    }
   ],
   "source": [
    "merge_1.dropna(inplace=True)\n",
    "merge_1.info()"
   ]
  },
  {
   "cell_type": "code",
   "execution_count": 21,
   "metadata": {},
   "outputs": [
    {
     "data": {
      "text/html": [
       "<div>\n",
       "<style scoped>\n",
       "    .dataframe tbody tr th:only-of-type {\n",
       "        vertical-align: middle;\n",
       "    }\n",
       "\n",
       "    .dataframe tbody tr th {\n",
       "        vertical-align: top;\n",
       "    }\n",
       "\n",
       "    .dataframe thead th {\n",
       "        text-align: right;\n",
       "    }\n",
       "</style>\n",
       "<table border=\"1\" class=\"dataframe\">\n",
       "  <thead>\n",
       "    <tr style=\"text-align: right;\">\n",
       "      <th></th>\n",
       "      <th>customerID</th>\n",
       "      <th>gender</th>\n",
       "      <th>SeniorCitizen</th>\n",
       "      <th>Partner</th>\n",
       "      <th>Dependents</th>\n",
       "      <th>Type</th>\n",
       "      <th>PaperlessBilling</th>\n",
       "      <th>PaymentMethod</th>\n",
       "      <th>MonthlyCharges</th>\n",
       "      <th>TotalCharges</th>\n",
       "      <th>churn</th>\n",
       "      <th>days</th>\n",
       "      <th>MultipleLines</th>\n",
       "    </tr>\n",
       "  </thead>\n",
       "  <tbody>\n",
       "    <tr>\n",
       "      <th>0</th>\n",
       "      <td>7590-VHVEG</td>\n",
       "      <td>Female</td>\n",
       "      <td>0</td>\n",
       "      <td>Yes</td>\n",
       "      <td>No</td>\n",
       "      <td>Month-to-month</td>\n",
       "      <td>Yes</td>\n",
       "      <td>Electronic check</td>\n",
       "      <td>29.85</td>\n",
       "      <td>29.85</td>\n",
       "      <td>0.0</td>\n",
       "      <td>31.0</td>\n",
       "      <td>NaN</td>\n",
       "    </tr>\n",
       "    <tr>\n",
       "      <th>1</th>\n",
       "      <td>5575-GNVDE</td>\n",
       "      <td>Male</td>\n",
       "      <td>0</td>\n",
       "      <td>No</td>\n",
       "      <td>No</td>\n",
       "      <td>One year</td>\n",
       "      <td>No</td>\n",
       "      <td>Mailed check</td>\n",
       "      <td>56.95</td>\n",
       "      <td>1889.50</td>\n",
       "      <td>0.0</td>\n",
       "      <td>1036.0</td>\n",
       "      <td>No</td>\n",
       "    </tr>\n",
       "    <tr>\n",
       "      <th>2</th>\n",
       "      <td>3668-QPYBK</td>\n",
       "      <td>Male</td>\n",
       "      <td>0</td>\n",
       "      <td>No</td>\n",
       "      <td>No</td>\n",
       "      <td>Month-to-month</td>\n",
       "      <td>Yes</td>\n",
       "      <td>Mailed check</td>\n",
       "      <td>53.85</td>\n",
       "      <td>108.15</td>\n",
       "      <td>1.0</td>\n",
       "      <td>61.0</td>\n",
       "      <td>No</td>\n",
       "    </tr>\n",
       "    <tr>\n",
       "      <th>3</th>\n",
       "      <td>7795-CFOCW</td>\n",
       "      <td>Male</td>\n",
       "      <td>0</td>\n",
       "      <td>No</td>\n",
       "      <td>No</td>\n",
       "      <td>One year</td>\n",
       "      <td>No</td>\n",
       "      <td>Bank transfer (automatic)</td>\n",
       "      <td>42.30</td>\n",
       "      <td>1840.75</td>\n",
       "      <td>0.0</td>\n",
       "      <td>1371.0</td>\n",
       "      <td>NaN</td>\n",
       "    </tr>\n",
       "    <tr>\n",
       "      <th>4</th>\n",
       "      <td>9237-HQITU</td>\n",
       "      <td>Female</td>\n",
       "      <td>0</td>\n",
       "      <td>No</td>\n",
       "      <td>No</td>\n",
       "      <td>Month-to-month</td>\n",
       "      <td>Yes</td>\n",
       "      <td>Electronic check</td>\n",
       "      <td>70.70</td>\n",
       "      <td>151.65</td>\n",
       "      <td>1.0</td>\n",
       "      <td>61.0</td>\n",
       "      <td>No</td>\n",
       "    </tr>\n",
       "  </tbody>\n",
       "</table>\n",
       "</div>"
      ],
      "text/plain": [
       "   customerID  gender SeniorCitizen Partner Dependents            Type  \\\n",
       "0  7590-VHVEG  Female             0     Yes         No  Month-to-month   \n",
       "1  5575-GNVDE    Male             0      No         No        One year   \n",
       "2  3668-QPYBK    Male             0      No         No  Month-to-month   \n",
       "3  7795-CFOCW    Male             0      No         No        One year   \n",
       "4  9237-HQITU  Female             0      No         No  Month-to-month   \n",
       "\n",
       "  PaperlessBilling              PaymentMethod  MonthlyCharges  TotalCharges  \\\n",
       "0              Yes           Electronic check           29.85         29.85   \n",
       "1               No               Mailed check           56.95       1889.50   \n",
       "2              Yes               Mailed check           53.85        108.15   \n",
       "3               No  Bank transfer (automatic)           42.30       1840.75   \n",
       "4              Yes           Electronic check           70.70        151.65   \n",
       "\n",
       "   churn    days MultipleLines  \n",
       "0    0.0    31.0           NaN  \n",
       "1    0.0  1036.0            No  \n",
       "2    1.0    61.0            No  \n",
       "3    0.0  1371.0           NaN  \n",
       "4    1.0    61.0            No  "
      ]
     },
     "execution_count": 21,
     "metadata": {},
     "output_type": "execute_result"
    }
   ],
   "source": [
    "merge_2=pd.merge(merge_1, phone, how=\"left\", on=\"customerID\")\n",
    "merge_2.head()"
   ]
  },
  {
   "cell_type": "code",
   "execution_count": 22,
   "metadata": {},
   "outputs": [
    {
     "data": {
      "text/html": [
       "<div>\n",
       "<style scoped>\n",
       "    .dataframe tbody tr th:only-of-type {\n",
       "        vertical-align: middle;\n",
       "    }\n",
       "\n",
       "    .dataframe tbody tr th {\n",
       "        vertical-align: top;\n",
       "    }\n",
       "\n",
       "    .dataframe thead th {\n",
       "        text-align: right;\n",
       "    }\n",
       "</style>\n",
       "<table border=\"1\" class=\"dataframe\">\n",
       "  <thead>\n",
       "    <tr style=\"text-align: right;\">\n",
       "      <th></th>\n",
       "      <th>customerID</th>\n",
       "      <th>gender</th>\n",
       "      <th>SeniorCitizen</th>\n",
       "      <th>Partner</th>\n",
       "      <th>Dependents</th>\n",
       "      <th>Type</th>\n",
       "      <th>PaperlessBilling</th>\n",
       "      <th>PaymentMethod</th>\n",
       "      <th>MonthlyCharges</th>\n",
       "      <th>TotalCharges</th>\n",
       "      <th>churn</th>\n",
       "      <th>days</th>\n",
       "      <th>MultipleLines</th>\n",
       "      <th>InternetService</th>\n",
       "      <th>OnlineSecurity</th>\n",
       "      <th>OnlineBackup</th>\n",
       "      <th>DeviceProtection</th>\n",
       "      <th>TechSupport</th>\n",
       "      <th>StreamingTV</th>\n",
       "      <th>StreamingMovies</th>\n",
       "    </tr>\n",
       "  </thead>\n",
       "  <tbody>\n",
       "    <tr>\n",
       "      <th>0</th>\n",
       "      <td>7590-VHVEG</td>\n",
       "      <td>Female</td>\n",
       "      <td>0</td>\n",
       "      <td>Yes</td>\n",
       "      <td>No</td>\n",
       "      <td>Month-to-month</td>\n",
       "      <td>Yes</td>\n",
       "      <td>Electronic check</td>\n",
       "      <td>29.85</td>\n",
       "      <td>29.85</td>\n",
       "      <td>0.0</td>\n",
       "      <td>31.0</td>\n",
       "      <td>NaN</td>\n",
       "      <td>DSL</td>\n",
       "      <td>No</td>\n",
       "      <td>Yes</td>\n",
       "      <td>No</td>\n",
       "      <td>No</td>\n",
       "      <td>No</td>\n",
       "      <td>No</td>\n",
       "    </tr>\n",
       "    <tr>\n",
       "      <th>1</th>\n",
       "      <td>5575-GNVDE</td>\n",
       "      <td>Male</td>\n",
       "      <td>0</td>\n",
       "      <td>No</td>\n",
       "      <td>No</td>\n",
       "      <td>One year</td>\n",
       "      <td>No</td>\n",
       "      <td>Mailed check</td>\n",
       "      <td>56.95</td>\n",
       "      <td>1889.50</td>\n",
       "      <td>0.0</td>\n",
       "      <td>1036.0</td>\n",
       "      <td>No</td>\n",
       "      <td>DSL</td>\n",
       "      <td>Yes</td>\n",
       "      <td>No</td>\n",
       "      <td>Yes</td>\n",
       "      <td>No</td>\n",
       "      <td>No</td>\n",
       "      <td>No</td>\n",
       "    </tr>\n",
       "    <tr>\n",
       "      <th>2</th>\n",
       "      <td>3668-QPYBK</td>\n",
       "      <td>Male</td>\n",
       "      <td>0</td>\n",
       "      <td>No</td>\n",
       "      <td>No</td>\n",
       "      <td>Month-to-month</td>\n",
       "      <td>Yes</td>\n",
       "      <td>Mailed check</td>\n",
       "      <td>53.85</td>\n",
       "      <td>108.15</td>\n",
       "      <td>1.0</td>\n",
       "      <td>61.0</td>\n",
       "      <td>No</td>\n",
       "      <td>DSL</td>\n",
       "      <td>Yes</td>\n",
       "      <td>Yes</td>\n",
       "      <td>No</td>\n",
       "      <td>No</td>\n",
       "      <td>No</td>\n",
       "      <td>No</td>\n",
       "    </tr>\n",
       "    <tr>\n",
       "      <th>3</th>\n",
       "      <td>7795-CFOCW</td>\n",
       "      <td>Male</td>\n",
       "      <td>0</td>\n",
       "      <td>No</td>\n",
       "      <td>No</td>\n",
       "      <td>One year</td>\n",
       "      <td>No</td>\n",
       "      <td>Bank transfer (automatic)</td>\n",
       "      <td>42.30</td>\n",
       "      <td>1840.75</td>\n",
       "      <td>0.0</td>\n",
       "      <td>1371.0</td>\n",
       "      <td>NaN</td>\n",
       "      <td>DSL</td>\n",
       "      <td>Yes</td>\n",
       "      <td>No</td>\n",
       "      <td>Yes</td>\n",
       "      <td>Yes</td>\n",
       "      <td>No</td>\n",
       "      <td>No</td>\n",
       "    </tr>\n",
       "    <tr>\n",
       "      <th>4</th>\n",
       "      <td>9237-HQITU</td>\n",
       "      <td>Female</td>\n",
       "      <td>0</td>\n",
       "      <td>No</td>\n",
       "      <td>No</td>\n",
       "      <td>Month-to-month</td>\n",
       "      <td>Yes</td>\n",
       "      <td>Electronic check</td>\n",
       "      <td>70.70</td>\n",
       "      <td>151.65</td>\n",
       "      <td>1.0</td>\n",
       "      <td>61.0</td>\n",
       "      <td>No</td>\n",
       "      <td>Fiber optic</td>\n",
       "      <td>No</td>\n",
       "      <td>No</td>\n",
       "      <td>No</td>\n",
       "      <td>No</td>\n",
       "      <td>No</td>\n",
       "      <td>No</td>\n",
       "    </tr>\n",
       "  </tbody>\n",
       "</table>\n",
       "</div>"
      ],
      "text/plain": [
       "   customerID  gender SeniorCitizen Partner Dependents            Type  \\\n",
       "0  7590-VHVEG  Female             0     Yes         No  Month-to-month   \n",
       "1  5575-GNVDE    Male             0      No         No        One year   \n",
       "2  3668-QPYBK    Male             0      No         No  Month-to-month   \n",
       "3  7795-CFOCW    Male             0      No         No        One year   \n",
       "4  9237-HQITU  Female             0      No         No  Month-to-month   \n",
       "\n",
       "  PaperlessBilling              PaymentMethod  MonthlyCharges  TotalCharges  \\\n",
       "0              Yes           Electronic check           29.85         29.85   \n",
       "1               No               Mailed check           56.95       1889.50   \n",
       "2              Yes               Mailed check           53.85        108.15   \n",
       "3               No  Bank transfer (automatic)           42.30       1840.75   \n",
       "4              Yes           Electronic check           70.70        151.65   \n",
       "\n",
       "   churn    days MultipleLines InternetService OnlineSecurity OnlineBackup  \\\n",
       "0    0.0    31.0           NaN             DSL             No          Yes   \n",
       "1    0.0  1036.0            No             DSL            Yes           No   \n",
       "2    1.0    61.0            No             DSL            Yes          Yes   \n",
       "3    0.0  1371.0           NaN             DSL            Yes           No   \n",
       "4    1.0    61.0            No     Fiber optic             No           No   \n",
       "\n",
       "  DeviceProtection TechSupport StreamingTV StreamingMovies  \n",
       "0               No          No          No              No  \n",
       "1              Yes          No          No              No  \n",
       "2               No          No          No              No  \n",
       "3              Yes         Yes          No              No  \n",
       "4               No          No          No              No  "
      ]
     },
     "execution_count": 22,
     "metadata": {},
     "output_type": "execute_result"
    }
   ],
   "source": [
    "data_final=pd.merge(merge_2, internet, how=\"left\", on=\"customerID\")\n",
    "data_final.head()"
   ]
  },
  {
   "cell_type": "code",
   "execution_count": 23,
   "metadata": {},
   "outputs": [
    {
     "name": "stdout",
     "output_type": "stream",
     "text": [
      "<class 'pandas.core.frame.DataFrame'>\n",
      "Int64Index: 7032 entries, 0 to 7031\n",
      "Data columns (total 20 columns):\n",
      " #   Column            Non-Null Count  Dtype   \n",
      "---  ------            --------------  -----   \n",
      " 0   customerID        7032 non-null   object  \n",
      " 1   gender            7032 non-null   category\n",
      " 2   SeniorCitizen     7032 non-null   category\n",
      " 3   Partner           7032 non-null   category\n",
      " 4   Dependents        7032 non-null   category\n",
      " 5   Type              7032 non-null   category\n",
      " 6   PaperlessBilling  7032 non-null   category\n",
      " 7   PaymentMethod     7032 non-null   category\n",
      " 8   MonthlyCharges    7032 non-null   float64 \n",
      " 9   TotalCharges      7032 non-null   float64 \n",
      " 10  churn             7032 non-null   float64 \n",
      " 11  days              7032 non-null   float64 \n",
      " 12  MultipleLines     6352 non-null   object  \n",
      " 13  InternetService   5512 non-null   object  \n",
      " 14  OnlineSecurity    5512 non-null   object  \n",
      " 15  OnlineBackup      5512 non-null   object  \n",
      " 16  DeviceProtection  5512 non-null   object  \n",
      " 17  TechSupport       5512 non-null   object  \n",
      " 18  StreamingTV       5512 non-null   object  \n",
      " 19  StreamingMovies   5512 non-null   object  \n",
      "dtypes: category(7), float64(4), object(9)\n",
      "memory usage: 818.1+ KB\n"
     ]
    }
   ],
   "source": [
    "data_final.info()"
   ]
  },
  {
   "cell_type": "markdown",
   "metadata": {},
   "source": [
    "- Cambio la columna churn a tipo entero"
   ]
  },
  {
   "cell_type": "code",
   "execution_count": 24,
   "metadata": {},
   "outputs": [],
   "source": [
    "data_final['churn']=data_final['churn'].astype('int')"
   ]
  },
  {
   "cell_type": "markdown",
   "metadata": {},
   "source": [
    "- Como los usuarios con valores ausentes no se suscriben a esos servicios, voy a reemplazar esos valores por \"No\". De esta manera, tendré información completa y precisa para seguir adelante."
   ]
  },
  {
   "cell_type": "code",
   "execution_count": 25,
   "metadata": {},
   "outputs": [],
   "source": [
    "str_cols = data_final.columns[data_final.dtypes=='object']\n",
    "data_final[str_cols] = data_final[str_cols].fillna('No')"
   ]
  },
  {
   "cell_type": "code",
   "execution_count": 26,
   "metadata": {},
   "outputs": [
    {
     "name": "stdout",
     "output_type": "stream",
     "text": [
      "<class 'pandas.core.frame.DataFrame'>\n",
      "Int64Index: 7032 entries, 0 to 7031\n",
      "Data columns (total 20 columns):\n",
      " #   Column            Non-Null Count  Dtype   \n",
      "---  ------            --------------  -----   \n",
      " 0   customerID        7032 non-null   object  \n",
      " 1   gender            7032 non-null   category\n",
      " 2   SeniorCitizen     7032 non-null   category\n",
      " 3   Partner           7032 non-null   category\n",
      " 4   Dependents        7032 non-null   category\n",
      " 5   Type              7032 non-null   category\n",
      " 6   PaperlessBilling  7032 non-null   category\n",
      " 7   PaymentMethod     7032 non-null   category\n",
      " 8   MonthlyCharges    7032 non-null   float64 \n",
      " 9   TotalCharges      7032 non-null   float64 \n",
      " 10  churn             7032 non-null   int64   \n",
      " 11  days              7032 non-null   float64 \n",
      " 12  MultipleLines     7032 non-null   object  \n",
      " 13  InternetService   7032 non-null   object  \n",
      " 14  OnlineSecurity    7032 non-null   object  \n",
      " 15  OnlineBackup      7032 non-null   object  \n",
      " 16  DeviceProtection  7032 non-null   object  \n",
      " 17  TechSupport       7032 non-null   object  \n",
      " 18  StreamingTV       7032 non-null   object  \n",
      " 19  StreamingMovies   7032 non-null   object  \n",
      "dtypes: category(7), float64(3), int64(1), object(9)\n",
      "memory usage: 818.1+ KB\n"
     ]
    }
   ],
   "source": [
    "data_final.info()"
   ]
  },
  {
   "cell_type": "markdown",
   "metadata": {},
   "source": [
    "- Ya puedo hacer mis conversiones de tipo categórico"
   ]
  },
  {
   "cell_type": "code",
   "execution_count": 27,
   "metadata": {},
   "outputs": [
    {
     "name": "stdout",
     "output_type": "stream",
     "text": [
      "<class 'pandas.core.frame.DataFrame'>\n",
      "Int64Index: 7032 entries, 0 to 7031\n",
      "Data columns (total 20 columns):\n",
      " #   Column            Non-Null Count  Dtype   \n",
      "---  ------            --------------  -----   \n",
      " 0   customerID        7032 non-null   object  \n",
      " 1   gender            7032 non-null   category\n",
      " 2   SeniorCitizen     7032 non-null   category\n",
      " 3   Partner           7032 non-null   category\n",
      " 4   Dependents        7032 non-null   category\n",
      " 5   Type              7032 non-null   category\n",
      " 6   PaperlessBilling  7032 non-null   category\n",
      " 7   PaymentMethod     7032 non-null   category\n",
      " 8   MonthlyCharges    7032 non-null   float64 \n",
      " 9   TotalCharges      7032 non-null   float64 \n",
      " 10  churn             7032 non-null   int64   \n",
      " 11  days              7032 non-null   float64 \n",
      " 12  MultipleLines     7032 non-null   category\n",
      " 13  InternetService   7032 non-null   category\n",
      " 14  OnlineSecurity    7032 non-null   category\n",
      " 15  OnlineBackup      7032 non-null   category\n",
      " 16  DeviceProtection  7032 non-null   category\n",
      " 17  TechSupport       7032 non-null   category\n",
      " 18  StreamingTV       7032 non-null   category\n",
      " 19  StreamingMovies   7032 non-null   category\n",
      "dtypes: category(15), float64(3), int64(1), object(1)\n",
      "memory usage: 434.5+ KB\n"
     ]
    }
   ],
   "source": [
    "data_final['OnlineSecurity'] = (data_final['OnlineSecurity'] == \"Yes\").astype(\"category\")\n",
    "data_final['OnlineBackup'] = (data_final['OnlineBackup'] == \"Yes\").astype(\"category\")\n",
    "data_final['TechSupport'] = (data_final['TechSupport'] == \"Yes\").astype(\"category\")\n",
    "data_final['DeviceProtection'] = (data_final['DeviceProtection'] == \"Yes\").astype(\"category\")\n",
    "data_final['StreamingTV'] = (data_final['StreamingTV'] == \"Yes\").astype(\"category\")\n",
    "data_final['StreamingMovies'] = (data_final['StreamingMovies'] == \"Yes\").astype(\"category\")\n",
    "data_final['InternetService'] = data_final['InternetService'].astype('category')\n",
    "data_final['MultipleLines'] = (data_final['MultipleLines'] == \"Yes\").astype(\"category\")\n",
    "\n",
    "data_final.info()"
   ]
  },
  {
   "cell_type": "markdown",
   "metadata": {},
   "source": [
    "- Ya se han procesado mis datos"
   ]
  },
  {
   "cell_type": "markdown",
   "metadata": {},
   "source": [
    "## Análisis Exploratorio"
   ]
  },
  {
   "cell_type": "markdown",
   "metadata": {},
   "source": [
    "- Exploraré el desequilibrio de clases en el conjunto de datos. Los que se fueron frente a los que se quedaron."
   ]
  },
  {
   "cell_type": "code",
   "execution_count": 28,
   "metadata": {},
   "outputs": [
    {
     "data": {
      "text/plain": [
       "<AxesSubplot:>"
      ]
     },
     "execution_count": 28,
     "metadata": {},
     "output_type": "execute_result"
    },
    {
     "data": {
      "image/png": "[encoded data removed]",
      "text/plain": [
       "<Figure size 432x288 with 1 Axes>"
      ]
     },
     "metadata": {
      "needs_background": "light"
     },
     "output_type": "display_data"
    }
   ],
   "source": [
    "data_final['churn'].hist()"
   ]
  },
  {
   "cell_type": "markdown",
   "metadata": {},
   "source": [
    "Más de 5,000 personas se quedaron y algo menos de 2,000 se marcharon."
   ]
  },
  {
   "cell_type": "markdown",
   "metadata": {},
   "source": [
    "- Voy a trazar gráficos para ver cómo se distribuye el churn entre las demás características"
   ]
  },
  {
   "cell_type": "code",
   "execution_count": 29,
   "metadata": {},
   "outputs": [
    {
     "name": "stderr",
     "output_type": "stream",
     "text": [
      "No handles with labels found to put in legend.\n",
      "No handles with labels found to put in legend.\n",
      "No handles with labels found to put in legend.\n",
      "No handles with labels found to put in legend.\n",
      "No handles with labels found to put in legend.\n",
      "No handles with labels found to put in legend.\n",
      "No handles with labels found to put in legend.\n",
      "No handles with labels found to put in legend.\n",
      "No handles with labels found to put in legend.\n",
      "No handles with labels found to put in legend.\n",
      "No handles with labels found to put in legend.\n",
      "No handles with labels found to put in legend.\n",
      "No handles with labels found to put in legend.\n",
      "No handles with labels found to put in legend.\n",
      "No handles with labels found to put in legend.\n",
      "No handles with labels found to put in legend.\n"
     ]
    },
    {
     "data": {
      "image/png": "[encoded data removed]",
      "text/plain": [
       "<Figure size 1584x1584 with 20 Axes>"
      ]
     },
     "metadata": {
      "needs_background": "light"
     },
     "output_type": "display_data"
    }
   ],
   "source": [
    "fig, axs = plt.subplots(4, len(data_final.columns) // 4, figsize=(22,22))\n",
    "axs = axs.flatten()\n",
    "cols=list(set(data_final.columns) - set(['customerID']))\n",
    "for col, ax in zip(cols, axs):\n",
    "    if data_final[col].dtype=='float64':\n",
    "        data_final.boxplot(column=col, by='churn', ax=ax)\n",
    "        plt.suptitle('')\n",
    "    else:\n",
    "        df = data_final.groupby([col, 'churn'])['churn'].count().unstack()\n",
    "        df.plot(kind='bar', stacked=False, label='#churn (neg, pos)', ax=ax)\n",
    "        plt.legend(loc='upper left')\n",
    "    \n",
    "plt.tight_layout()\n",
    "plt.show()    "
   ]
  },
  {
   "cell_type": "markdown",
   "metadata": {},
   "source": [
    "Analizando los datos, encontré algunas características comunes en los clientes que se dieron de baja:\n",
    "\n",
    "- La mayoría prefería la facturación sin papel, especialmente mediante cheques electrónicos.\n",
    "- Curiosamente, no predominaban las personas mayores entre los que se fueron.\n",
    "- No tenían contratados uno o más de los servicios de internet que se ofrecen.\n",
    "- Optaban por planes de pago mes a mes.\n",
    "\n",
    "Sus facturas mensuales solían ser más elevadas, con una media de unos 80 USD. El diagrama de caja de \"days\" indica que eran usuarios relativamente nuevos (con algunas excepciones). Esto tiene sentido si tenemos en cuenta que, al no permanecer mucho tiempo, el total que pagaban era menor. Sin embargo, hay algunos valores atípicos en los datos que no puedo ignorar."
   ]
  },
  {
   "cell_type": "markdown",
   "metadata": {},
   "source": [
    "# Matriz de correlaciones"
   ]
  },
  {
   "cell_type": "code",
   "execution_count": 30,
   "metadata": {},
   "outputs": [
    {
     "data": {
      "text/html": [
       "<div>\n",
       "<style scoped>\n",
       "    .dataframe tbody tr th:only-of-type {\n",
       "        vertical-align: middle;\n",
       "    }\n",
       "\n",
       "    .dataframe tbody tr th {\n",
       "        vertical-align: top;\n",
       "    }\n",
       "\n",
       "    .dataframe thead th {\n",
       "        text-align: right;\n",
       "    }\n",
       "</style>\n",
       "<table border=\"1\" class=\"dataframe\">\n",
       "  <thead>\n",
       "    <tr style=\"text-align: right;\">\n",
       "      <th></th>\n",
       "      <th>MonthlyCharges</th>\n",
       "      <th>TotalCharges</th>\n",
       "      <th>churn</th>\n",
       "      <th>days</th>\n",
       "    </tr>\n",
       "  </thead>\n",
       "  <tbody>\n",
       "    <tr>\n",
       "      <th>MonthlyCharges</th>\n",
       "      <td>1.000000</td>\n",
       "      <td>0.651065</td>\n",
       "      <td>0.192858</td>\n",
       "      <td>0.246715</td>\n",
       "    </tr>\n",
       "    <tr>\n",
       "      <th>TotalCharges</th>\n",
       "      <td>0.651065</td>\n",
       "      <td>1.000000</td>\n",
       "      <td>-0.199484</td>\n",
       "      <td>0.825811</td>\n",
       "    </tr>\n",
       "    <tr>\n",
       "      <th>churn</th>\n",
       "      <td>0.192858</td>\n",
       "      <td>-0.199484</td>\n",
       "      <td>1.000000</td>\n",
       "      <td>-0.354496</td>\n",
       "    </tr>\n",
       "    <tr>\n",
       "      <th>days</th>\n",
       "      <td>0.246715</td>\n",
       "      <td>0.825811</td>\n",
       "      <td>-0.354496</td>\n",
       "      <td>1.000000</td>\n",
       "    </tr>\n",
       "  </tbody>\n",
       "</table>\n",
       "</div>"
      ],
      "text/plain": [
       "                MonthlyCharges  TotalCharges     churn      days\n",
       "MonthlyCharges        1.000000      0.651065  0.192858  0.246715\n",
       "TotalCharges          0.651065      1.000000 -0.199484  0.825811\n",
       "churn                 0.192858     -0.199484  1.000000 -0.354496\n",
       "days                  0.246715      0.825811 -0.354496  1.000000"
      ]
     },
     "execution_count": 30,
     "metadata": {},
     "output_type": "execute_result"
    }
   ],
   "source": [
    "data_final.corr()"
   ]
  },
  {
   "cell_type": "markdown",
   "metadata": {},
   "source": [
    "- Revisando las características numéricas, no encontré ninguna con una fuerte correlación con la tasa de abandono. Sin embargo, sí observé una correlación bastante notable entre el número de días que un cliente estuvo con nosotros y el total que pagó en cuotas."
   ]
  },
  {
   "cell_type": "markdown",
   "metadata": {},
   "source": [
    "- En el siguiente paso, me enfocaré en las cuotas mensuales de los usuarios que tenían servicios de teléfono e internet. Compararé la distribución de estas cuotas entre los clientes que se dieron de baja y los que aún siguen con nosotros. Esto me ayudará a comprender mejor si existe alguna relación entre el precio y la cancelación del servicio."
   ]
  },
  {
   "cell_type": "code",
   "execution_count": 31,
   "metadata": {},
   "outputs": [
    {
     "data": {
      "image/png": "[encoded data removed]",
      "text/plain": [
       "<Figure size 864x864 with 2 Axes>"
      ]
     },
     "metadata": {
      "needs_background": "light"
     },
     "output_type": "display_data"
    }
   ],
   "source": [
    "plt.figure(figsize=(12,12))\n",
    "sns.heatmap(data_final.corr(), annot=True, cmap='turbo')\n",
    "plt.title('Mapa de calor - Correlación ')\n",
    "plt.show()"
   ]
  },
  {
   "cell_type": "code",
   "execution_count": 32,
   "metadata": {},
   "outputs": [
    {
     "data": {
      "text/plain": [
       "churn             1.000000\n",
       "MonthlyCharges    0.192858\n",
       "TotalCharges     -0.199484\n",
       "days             -0.354496\n",
       "Name: churn, dtype: float64"
      ]
     },
     "execution_count": 32,
     "metadata": {},
     "output_type": "execute_result"
    }
   ],
   "source": [
    "data_final.corr()['churn'].sort_values(ascending=False)"
   ]
  },
  {
   "cell_type": "code",
   "execution_count": 33,
   "metadata": {},
   "outputs": [
    {
     "data": {
      "text/plain": [
       "MonthlyCharges    0.192858\n",
       "TotalCharges     -0.199484\n",
       "days             -0.354496\n",
       "churn             1.000000\n",
       "Name: churn, dtype: float64"
      ]
     },
     "execution_count": 33,
     "metadata": {},
     "output_type": "execute_result"
    }
   ],
   "source": [
    "corr_df = data_final.corr()\n",
    "corr_df.iloc[corr_df['churn'].abs().argsort()][\"churn\"]"
   ]
  },
  {
   "cell_type": "code",
   "execution_count": 34,
   "metadata": {
    "scrolled": true
   },
   "outputs": [
    {
     "name": "stdout",
     "output_type": "stream",
     "text": [
      "<class 'pandas.core.frame.DataFrame'>\n",
      "Int64Index: 6352 entries, 1 to 7031\n",
      "Data columns (total 20 columns):\n",
      " #   Column            Non-Null Count  Dtype   \n",
      "---  ------            --------------  -----   \n",
      " 0   customerID        6352 non-null   object  \n",
      " 1   gender            6352 non-null   category\n",
      " 2   SeniorCitizen     6352 non-null   category\n",
      " 3   Partner           6352 non-null   category\n",
      " 4   Dependents        6352 non-null   category\n",
      " 5   Type              6352 non-null   category\n",
      " 6   PaperlessBilling  6352 non-null   category\n",
      " 7   PaymentMethod     6352 non-null   category\n",
      " 8   MonthlyCharges    6352 non-null   float64 \n",
      " 9   TotalCharges      6352 non-null   float64 \n",
      " 10  churn             6352 non-null   int64   \n",
      " 11  days              6352 non-null   float64 \n",
      " 12  MultipleLines     6352 non-null   category\n",
      " 13  InternetService   6352 non-null   category\n",
      " 14  OnlineSecurity    6352 non-null   category\n",
      " 15  OnlineBackup      6352 non-null   category\n",
      " 16  DeviceProtection  6352 non-null   category\n",
      " 17  TechSupport       6352 non-null   category\n",
      " 18  StreamingTV       6352 non-null   category\n",
      " 19  StreamingMovies   6352 non-null   category\n",
      "dtypes: category(15), float64(3), int64(1), object(1)\n",
      "memory usage: 392.7+ KB\n"
     ]
    }
   ],
   "source": [
    "phone_users=data_final[data_final['customerID'].isin(phone['customerID'])]\n",
    "phone_users.info()"
   ]
  },
  {
   "cell_type": "markdown",
   "metadata": {},
   "source": [
    "- Distribución de las tarifas mensuales entre los usuarios de teléfono"
   ]
  },
  {
   "cell_type": "code",
   "execution_count": 35,
   "metadata": {},
   "outputs": [
    {
     "data": {
      "image/png": "[encoded data removed]",
      "text/plain": [
       "<Figure size 432x288 with 1 Axes>"
      ]
     },
     "metadata": {
      "needs_background": "light"
     },
     "output_type": "display_data"
    }
   ],
   "source": [
    "phone_users['MonthlyCharges'].hist(bins=25)\n",
    "plt.xlabel('Cargos Mensuales')\n",
    "plt.ylabel('Frecuencia')\n",
    "plt.title('Cargos mensuales entre clientes telefónicos')\n",
    "plt.show()"
   ]
  },
  {
   "cell_type": "code",
   "execution_count": 36,
   "metadata": {
    "scrolled": true
   },
   "outputs": [
    {
     "data": {
      "image/png": "[encoded data removed]",
      "text/plain": [
       "<Figure size 432x288 with 1 Axes>"
      ]
     },
     "metadata": {
      "needs_background": "light"
     },
     "output_type": "display_data"
    }
   ],
   "source": [
    "phone_users.boxplot(column='MonthlyCharges')\n",
    "plt.title('Cargos mensuales entre clientes telefónicos')\n",
    "plt.show()"
   ]
  },
  {
   "cell_type": "code",
   "execution_count": 37,
   "metadata": {},
   "outputs": [
    {
     "data": {
      "text/plain": [
       "count    6352.000000\n",
       "mean       67.239625\n",
       "std        30.438439\n",
       "min        18.250000\n",
       "25%        44.787500\n",
       "50%        74.700000\n",
       "75%        91.250000\n",
       "max       118.750000\n",
       "Name: MonthlyCharges, dtype: float64"
      ]
     },
     "execution_count": 37,
     "metadata": {},
     "output_type": "execute_result"
    }
   ],
   "source": [
    "phone_users['MonthlyCharges'].describe()"
   ]
  },
  {
   "cell_type": "markdown",
   "metadata": {},
   "source": [
    "- Analizando las cuotas mensuales de los usuarios de telefonía, observo que un usuario típico paga entre 45 (percentil 25) y 91 (percentil 75) dólares. Sin embargo, el histograma revela un grupo considerable de personas (alrededor de 1.500) que pagan entre 20 y 30 dólares al mes. Ahora, es interesante comparar la distribución de estas cuotas entre los clientes que se dieron de baja y los que aún siguen."
   ]
  },
  {
   "cell_type": "code",
   "execution_count": 38,
   "metadata": {},
   "outputs": [
    {
     "data": {
      "image/png": "[encoded data removed]",
      "text/plain": [
       "<Figure size 432x288 with 1 Axes>"
      ]
     },
     "metadata": {
      "needs_background": "light"
     },
     "output_type": "display_data"
    }
   ],
   "source": [
    "phone_users[phone_users['churn']==1]['MonthlyCharges'].hist(bins=25, alpha=0.5, label='churn=1')\n",
    "phone_users[phone_users['churn']==0]['MonthlyCharges'].hist(bins=25, alpha=0.5, label='churn=0')\n",
    "plt.legend(loc='upper right')\n",
    "plt.xlabel('Cargos Mensuales')\n",
    "plt.title('Histograma de gastos mensuales por rotación (usuarios de teléfono)')\n",
    "plt.show()"
   ]
  },
  {
   "cell_type": "markdown",
   "metadata": {},
   "source": [
    "- Las distribuciones son similares, aunque la de los que se marcharon es mucho menor"
   ]
  },
  {
   "cell_type": "code",
   "execution_count": 39,
   "metadata": {},
   "outputs": [
    {
     "data": {
      "image/png": "[encoded data removed]",
      "text/plain": [
       "<Figure size 432x288 with 1 Axes>"
      ]
     },
     "metadata": {
      "needs_background": "light"
     },
     "output_type": "display_data"
    }
   ],
   "source": [
    "phone_users.boxplot(column='MonthlyCharges', by='churn')\n",
    "plt.suptitle('')\n",
    "plt.show()"
   ]
  },
  {
   "cell_type": "markdown",
   "metadata": {},
   "source": [
    "- Parece ser que los que se marcharon pagaron cuotas mensuales más altas que los que se quedaron"
   ]
  },
  {
   "cell_type": "code",
   "execution_count": 40,
   "metadata": {},
   "outputs": [
    {
     "name": "stdout",
     "output_type": "stream",
     "text": [
      "Distribución mensual de los gastos de los que se fueron count    1699.000000\n",
      "mean       78.134255\n",
      "std        22.567643\n",
      "min        18.850000\n",
      "25%        69.975000\n",
      "50%        80.950000\n",
      "75%        94.850000\n",
      "max       118.350000\n",
      "Name: MonthlyCharges, dtype: float64\n"
     ]
    }
   ],
   "source": [
    "print('Distribución mensual de los gastos de los que se fueron',\n",
    "      phone_users[phone_users['churn']==1]['MonthlyCharges'].describe())\n"
   ]
  },
  {
   "cell_type": "code",
   "execution_count": 41,
   "metadata": {},
   "outputs": [
    {
     "name": "stdout",
     "output_type": "stream",
     "text": [
      "Distribución mensual de los gastos de los que se quedaron count    4653.000000\n",
      "mean       63.261552\n",
      "std        31.934310\n",
      "min        18.250000\n",
      "25%        24.500000\n",
      "50%        69.900000\n",
      "75%        90.050000\n",
      "max       118.750000\n",
      "Name: MonthlyCharges, dtype: float64\n"
     ]
    }
   ],
   "source": [
    "print('Distribución mensual de los gastos de los que se quedaron',\n",
    "      phone_users[phone_users['churn']==0]['MonthlyCharges'].describe())"
   ]
  },
  {
   "cell_type": "markdown",
   "metadata": {},
   "source": [
    "- Los que se marcharon solían pagar entre 70 (percentil 25) y 95 dólares (percentil 75). Los que se quedaron pagaban entre 24 (percentil 25) y 90 dólares (percentil 75)."
   ]
  },
  {
   "cell_type": "markdown",
   "metadata": {},
   "source": [
    "Subscriptores de Internet"
   ]
  },
  {
   "cell_type": "code",
   "execution_count": 42,
   "metadata": {},
   "outputs": [
    {
     "name": "stdout",
     "output_type": "stream",
     "text": [
      "<class 'pandas.core.frame.DataFrame'>\n",
      "Int64Index: 5512 entries, 0 to 7031\n",
      "Data columns (total 20 columns):\n",
      " #   Column            Non-Null Count  Dtype   \n",
      "---  ------            --------------  -----   \n",
      " 0   customerID        5512 non-null   object  \n",
      " 1   gender            5512 non-null   category\n",
      " 2   SeniorCitizen     5512 non-null   category\n",
      " 3   Partner           5512 non-null   category\n",
      " 4   Dependents        5512 non-null   category\n",
      " 5   Type              5512 non-null   category\n",
      " 6   PaperlessBilling  5512 non-null   category\n",
      " 7   PaymentMethod     5512 non-null   category\n",
      " 8   MonthlyCharges    5512 non-null   float64 \n",
      " 9   TotalCharges      5512 non-null   float64 \n",
      " 10  churn             5512 non-null   int64   \n",
      " 11  days              5512 non-null   float64 \n",
      " 12  MultipleLines     5512 non-null   category\n",
      " 13  InternetService   5512 non-null   category\n",
      " 14  OnlineSecurity    5512 non-null   category\n",
      " 15  OnlineBackup      5512 non-null   category\n",
      " 16  DeviceProtection  5512 non-null   category\n",
      " 17  TechSupport       5512 non-null   category\n",
      " 18  StreamingTV       5512 non-null   category\n",
      " 19  StreamingMovies   5512 non-null   category\n",
      "dtypes: category(15), float64(3), int64(1), object(1)\n",
      "memory usage: 341.0+ KB\n"
     ]
    }
   ],
   "source": [
    "internet_users=data_final[data_final['customerID'].isin(internet['customerID'])]\n",
    "internet_users.info()"
   ]
  },
  {
   "cell_type": "code",
   "execution_count": 43,
   "metadata": {},
   "outputs": [
    {
     "data": {
      "image/png": "[encoded data removed]",
      "text/plain": [
       "<Figure size 432x288 with 1 Axes>"
      ]
     },
     "metadata": {
      "needs_background": "light"
     },
     "output_type": "display_data"
    }
   ],
   "source": [
    "internet_users['MonthlyCharges'].hist(bins=25)\n",
    "plt.xlabel('Cargos Mensuales')\n",
    "plt.ylabel('Frecuencia')\n",
    "plt.title('Tarifas mensuales entre clientes de Internet')\n",
    "plt.show()"
   ]
  },
  {
   "cell_type": "markdown",
   "metadata": {},
   "source": [
    "- Observo dos picos: uno en torno a 50 y otro en torno a 80. Está sesgado a la derecha"
   ]
  },
  {
   "cell_type": "code",
   "execution_count": 44,
   "metadata": {},
   "outputs": [
    {
     "data": {
      "image/png": "[encoded data removed]",
      "text/plain": [
       "<Figure size 432x288 with 1 Axes>"
      ]
     },
     "metadata": {
      "needs_background": "light"
     },
     "output_type": "display_data"
    }
   ],
   "source": [
    "internet_users.boxplot(column='MonthlyCharges')\n",
    "plt.show()"
   ]
  },
  {
   "cell_type": "code",
   "execution_count": 45,
   "metadata": {},
   "outputs": [
    {
     "data": {
      "text/plain": [
       "count    5512.000000\n",
       "mean       76.855053\n",
       "std        21.929331\n",
       "min        23.450000\n",
       "25%        59.950000\n",
       "50%        79.500000\n",
       "75%        94.450000\n",
       "max       118.750000\n",
       "Name: MonthlyCharges, dtype: float64"
      ]
     },
     "execution_count": 45,
     "metadata": {},
     "output_type": "execute_result"
    }
   ],
   "source": [
    "internet_users['MonthlyCharges'].describe()"
   ]
  },
  {
   "cell_type": "code",
   "execution_count": 46,
   "metadata": {},
   "outputs": [
    {
     "data": {
      "image/png": "[encoded data removed]",
      "text/plain": [
       "<Figure size 432x288 with 1 Axes>"
      ]
     },
     "metadata": {
      "needs_background": "light"
     },
     "output_type": "display_data"
    }
   ],
   "source": [
    "internet_users[internet_users['churn']==1]['MonthlyCharges'].hist(bins=25, alpha=0.5, label='churn=1')\n",
    "internet_users[internet_users['churn']==0]['MonthlyCharges'].hist(bins=25, alpha=0.5, label='churn=0')\n",
    "plt.legend(loc='upper right')\n",
    "plt.xlabel('Cargos Mensuales')\n",
    "plt.title('Histograma de gastos mensuales por rotación (usuarios de Internet)')\n",
    "plt.show()"
   ]
  },
  {
   "cell_type": "code",
   "execution_count": 47,
   "metadata": {},
   "outputs": [
    {
     "data": {
      "image/png": "[encoded data removed]",
      "text/plain": [
       "<Figure size 432x288 with 1 Axes>"
      ]
     },
     "metadata": {
      "needs_background": "light"
     },
     "output_type": "display_data"
    }
   ],
   "source": [
    "internet_users.boxplot(column='MonthlyCharges', by='churn')\n",
    "plt.suptitle('')\n",
    "plt.show()"
   ]
  },
  {
   "cell_type": "code",
   "execution_count": 48,
   "metadata": {},
   "outputs": [
    {
     "name": "stdout",
     "output_type": "stream",
     "text": [
      "Distribución mensual de los gastos para los que se fueron count    1756.000000\n",
      "mean       77.920985\n",
      "std        21.144147\n",
      "min        23.450000\n",
      "25%        69.350000\n",
      "50%        80.450000\n",
      "75%        94.650000\n",
      "max       118.350000\n",
      "Name: MonthlyCharges, dtype: float64\n"
     ]
    }
   ],
   "source": [
    "print('Distribución mensual de los gastos para los que se fueron',\n",
    "      internet_users[internet_users['churn']==1]['MonthlyCharges'].describe())"
   ]
  },
  {
   "cell_type": "code",
   "execution_count": 49,
   "metadata": {},
   "outputs": [
    {
     "name": "stdout",
     "output_type": "stream",
     "text": [
      "Distribución mensual de los gastos para los que se quedaron count    3756.000000\n",
      "mean       76.356709\n",
      "std        22.272199\n",
      "min        24.150000\n",
      "25%        59.137500\n",
      "50%        78.725000\n",
      "75%        94.312500\n",
      "max       118.750000\n",
      "Name: MonthlyCharges, dtype: float64\n"
     ]
    }
   ],
   "source": [
    "print('Distribución mensual de los gastos para los que se quedaron',\n",
    "      internet_users[internet_users['churn']==0]['MonthlyCharges'].describe())"
   ]
  },
  {
   "cell_type": "markdown",
   "metadata": {},
   "source": [
    "Los que se marcharon pagaban entre 69 (percentil 25) y 95 dólares (percentil 75), mientras que los que se quedaron pagaban entre 59 (percentil 25) y 94 dólares (percentil 75).\n",
    "\n",
    "- En conclusión, tanto para los usuarios de internet como para los de telefonía, se observa una tendencia clara: los que se dieron de baja pagaban, en promedio, cuotas mensuales más altas. Esta información es valiosa para comprender mejor los motivos que llevan a los clientes a cancelar su servicio."
   ]
  },
  {
   "cell_type": "markdown",
   "metadata": {},
   "source": [
    "<div class=\"alert alert-block alert-success\">\n",
    "<b>Comentario del revisor</b> <a class=“tocSkip”></a>\n",
    "El trabajo realizado en la exploración inicial de los datos y su limpieza ha sido excepcional. Destaco especialmente cómo has utilizado la descripción de los percentiles para obtener conclusiones intermedias claras y acertadas. Este enfoque ha permitido una comprensión profunda de la distribución de los datos, lo cual es esencial para el análisis posterior y la construcción de modelos predictivos efectivos. Las conclusiones intermedias que has logrado a través de este análisis meticuloso proporcionan una base sólida para las recomendaciones y estrategias futuras.</div>\n"
   ]
  },
  {
   "cell_type": "markdown",
   "metadata": {},
   "source": [
    "## Entrenamiento y Evaluación del Modelo"
   ]
  },
  {
   "cell_type": "code",
   "execution_count": 50,
   "metadata": {},
   "outputs": [],
   "source": [
    "data_final=data_final.drop('customerID', axis=1)"
   ]
  },
  {
   "cell_type": "markdown",
   "metadata": {},
   "source": [
    "- Elimino la columna customerID, ya que no será de utilidad."
   ]
  },
  {
   "cell_type": "markdown",
   "metadata": {},
   "source": [
    "Crearé dos conjuntos: uno para entrenar el modelo y otro para evaluar su rendimiento.\n",
    "\n",
    "Como tenemos un desequilibrio de clases (es decir, no hay una distribución equitativa entre las diferentes categorías), utilizaré tres tipos de datos:\n",
    "\n",
    "1. Codificación Ordinal y Escalado: En este caso, codificaré las variables categóricas de forma ordinal y escalaré todas las variables numéricas.\n",
    "\n",
    "2. Codificación One-Hot y Escalado: Aquí, usaré la codificación one-hot para las variables categóricas y escalaré las variables numéricas.\n",
    "\n",
    "3. Solo Escalado: En este tipo, solo escalaré todas las variables (tanto categóricas como numéricas) sin ninguna codificación.\n",
    "\n",
    "Para solucionar el desequilibrio de clases, aplicaré una técnica de sobremuestreo a cada tipo de datos."
   ]
  },
  {
   "cell_type": "markdown",
   "metadata": {},
   "source": [
    "- Crearé una función llamada \"upsample\" que toma como argumentos las características, el objetivo y el número de repetición"
   ]
  },
  {
   "cell_type": "code",
   "execution_count": 51,
   "metadata": {},
   "outputs": [],
   "source": [
    "def upsample(features, target, repeat):\n",
    "    features_zeros = features[target == 0]\n",
    "    features_ones = features[target == 1] \n",
    "    target_zeros = target[target == 0]\n",
    "    target_ones = target[target == 1]\n",
    "    features_ups = pd.concat([features_zeros] + [features_ones] * repeat)\n",
    "    target_ups = pd.concat([target_zeros] + [target_ones] * repeat)\n",
    "    features_ups, target_ups = shuffle(features_ups, target_ups, random_state=12345)\n",
    "    return features_ups, target_ups"
   ]
  },
  {
   "cell_type": "markdown",
   "metadata": {},
   "source": [
    "- Codificación ordinal y escalada"
   ]
  },
  {
   "cell_type": "code",
   "execution_count": 52,
   "metadata": {},
   "outputs": [
    {
     "name": "stdout",
     "output_type": "stream",
     "text": [
      "<class 'pandas.core.frame.DataFrame'>\n",
      "Int64Index: 7032 entries, 0 to 7031\n",
      "Data columns (total 19 columns):\n",
      " #   Column            Non-Null Count  Dtype  \n",
      "---  ------            --------------  -----  \n",
      " 0   gender            7032 non-null   float64\n",
      " 1   SeniorCitizen     7032 non-null   float64\n",
      " 2   Partner           7032 non-null   float64\n",
      " 3   Dependents        7032 non-null   float64\n",
      " 4   Type              7032 non-null   float64\n",
      " 5   PaperlessBilling  7032 non-null   float64\n",
      " 6   PaymentMethod     7032 non-null   float64\n",
      " 7   MonthlyCharges    7032 non-null   float64\n",
      " 8   TotalCharges      7032 non-null   float64\n",
      " 9   churn             7032 non-null   int64  \n",
      " 10  days              7032 non-null   float64\n",
      " 11  MultipleLines     7032 non-null   float64\n",
      " 12  InternetService   7032 non-null   float64\n",
      " 13  OnlineSecurity    7032 non-null   float64\n",
      " 14  OnlineBackup      7032 non-null   float64\n",
      " 15  DeviceProtection  7032 non-null   float64\n",
      " 16  TechSupport       7032 non-null   float64\n",
      " 17  StreamingTV       7032 non-null   float64\n",
      " 18  StreamingMovies   7032 non-null   float64\n",
      "dtypes: float64(18), int64(1)\n",
      "memory usage: 1.1 MB\n"
     ]
    }
   ],
   "source": [
    "data_mod=data_final.copy()\n",
    "cat_feat = data_mod.columns[data_mod.dtypes=='category']\n",
    "encoder=OrdinalEncoder()\n",
    "data_mod[cat_feat]=encoder.fit_transform(data_mod[cat_feat])\n",
    "data_mod.info()"
   ]
  },
  {
   "cell_type": "markdown",
   "metadata": {},
   "source": [
    "- \"features\" serán todas las columnas excepto la columna churn, \"target\" será la columna churn"
   ]
  },
  {
   "cell_type": "code",
   "execution_count": 53,
   "metadata": {},
   "outputs": [
    {
     "name": "stdout",
     "output_type": "stream",
     "text": [
      "(5274, 18)\n",
      "(5274,)\n",
      "(1758, 18)\n",
      "(1758,)\n"
     ]
    }
   ],
   "source": [
    "features=data_mod.drop('churn', axis=1)\n",
    "target=data_mod['churn']\n",
    "features_train, features_test, target_train, target_test=train_test_split(features, target,\\\n",
    "                                                                                      test_size=0.25,\\\n",
    "                                                                                     random_state=12345)\n",
    "print(features_train.shape)\n",
    "print(target_train.shape)\n",
    "print(features_test.shape)\n",
    "print(target_test.shape)"
   ]
  },
  {
   "cell_type": "code",
   "execution_count": 54,
   "metadata": {},
   "outputs": [
    {
     "data": {
      "text/plain": [
       "0    0.733788\n",
       "1    0.266212\n",
       "Name: churn, dtype: float64"
      ]
     },
     "execution_count": 54,
     "metadata": {},
     "output_type": "execute_result"
    }
   ],
   "source": [
    "target_train.value_counts(normalize=True)"
   ]
  },
  {
   "cell_type": "code",
   "execution_count": 55,
   "metadata": {},
   "outputs": [
    {
     "name": "stdout",
     "output_type": "stream",
     "text": [
      "(8082, 18) (8082,)\n"
     ]
    }
   ],
   "source": [
    "feat_ups, targ_ups = upsample(features_train, target_train, 3)\n",
    "print(feat_ups.shape, targ_ups.shape)"
   ]
  },
  {
   "cell_type": "markdown",
   "metadata": {},
   "source": [
    "- Muestrea el conjunto de características de \"target\" y \"features\" introduciéndolos en la función upsample con una repetición, para poder imprimir las dimensiones de los conjuntos remuestreados"
   ]
  },
  {
   "cell_type": "code",
   "execution_count": 56,
   "metadata": {},
   "outputs": [
    {
     "name": "stderr",
     "output_type": "stream",
     "text": [
      "/tmp/ipykernel_795/3354536010.py:5: SettingWithCopyWarning: \n",
      "A value is trying to be set on a copy of a slice from a DataFrame.\n",
      "Try using .loc[row_indexer,col_indexer] = value instead\n",
      "\n",
      "See the caveats in the documentation: https://pandas.pydata.org/pandas-docs/stable/user_guide/indexing.html#returning-a-view-versus-a-copy\n",
      "  features_test[numeric] = scaler.transform(features_test[numeric])\n",
      "/opt/conda/lib/python3.9/site-packages/pandas/core/indexing.py:1637: SettingWithCopyWarning: \n",
      "A value is trying to be set on a copy of a slice from a DataFrame\n",
      "\n",
      "See the caveats in the documentation: https://pandas.pydata.org/pandas-docs/stable/user_guide/indexing.html#returning-a-view-versus-a-copy\n",
      "  self._setitem_single_block(indexer, value, name)\n",
      "/opt/conda/lib/python3.9/site-packages/pandas/core/indexing.py:692: SettingWithCopyWarning: \n",
      "A value is trying to be set on a copy of a slice from a DataFrame\n",
      "\n",
      "See the caveats in the documentation: https://pandas.pydata.org/pandas-docs/stable/user_guide/indexing.html#returning-a-view-versus-a-copy\n",
      "  iloc._setitem_with_indexer(indexer, value, self.name)\n"
     ]
    },
    {
     "data": {
      "text/html": [
       "<div>\n",
       "<style scoped>\n",
       "    .dataframe tbody tr th:only-of-type {\n",
       "        vertical-align: middle;\n",
       "    }\n",
       "\n",
       "    .dataframe tbody tr th {\n",
       "        vertical-align: top;\n",
       "    }\n",
       "\n",
       "    .dataframe thead th {\n",
       "        text-align: right;\n",
       "    }\n",
       "</style>\n",
       "<table border=\"1\" class=\"dataframe\">\n",
       "  <thead>\n",
       "    <tr style=\"text-align: right;\">\n",
       "      <th></th>\n",
       "      <th>gender</th>\n",
       "      <th>SeniorCitizen</th>\n",
       "      <th>Partner</th>\n",
       "      <th>Dependents</th>\n",
       "      <th>Type</th>\n",
       "      <th>PaperlessBilling</th>\n",
       "      <th>PaymentMethod</th>\n",
       "      <th>MonthlyCharges</th>\n",
       "      <th>TotalCharges</th>\n",
       "      <th>days</th>\n",
       "      <th>MultipleLines</th>\n",
       "      <th>InternetService</th>\n",
       "      <th>OnlineSecurity</th>\n",
       "      <th>OnlineBackup</th>\n",
       "      <th>DeviceProtection</th>\n",
       "      <th>TechSupport</th>\n",
       "      <th>StreamingTV</th>\n",
       "      <th>StreamingMovies</th>\n",
       "    </tr>\n",
       "  </thead>\n",
       "  <tbody>\n",
       "    <tr>\n",
       "      <th>1616</th>\n",
       "      <td>0.0</td>\n",
       "      <td>0.0</td>\n",
       "      <td>0.0</td>\n",
       "      <td>0.0</td>\n",
       "      <td>0.0</td>\n",
       "      <td>1.0</td>\n",
       "      <td>2.0</td>\n",
       "      <td>0.637200</td>\n",
       "      <td>0.452304</td>\n",
       "      <td>0.305534</td>\n",
       "      <td>1.0</td>\n",
       "      <td>1.0</td>\n",
       "      <td>0.0</td>\n",
       "      <td>0.0</td>\n",
       "      <td>0.0</td>\n",
       "      <td>0.0</td>\n",
       "      <td>1.0</td>\n",
       "      <td>0.0</td>\n",
       "    </tr>\n",
       "    <tr>\n",
       "      <th>5677</th>\n",
       "      <td>1.0</td>\n",
       "      <td>1.0</td>\n",
       "      <td>0.0</td>\n",
       "      <td>0.0</td>\n",
       "      <td>0.0</td>\n",
       "      <td>1.0</td>\n",
       "      <td>0.0</td>\n",
       "      <td>0.591817</td>\n",
       "      <td>-0.702195</td>\n",
       "      <td>-0.896508</td>\n",
       "      <td>0.0</td>\n",
       "      <td>1.0</td>\n",
       "      <td>1.0</td>\n",
       "      <td>0.0</td>\n",
       "      <td>0.0</td>\n",
       "      <td>0.0</td>\n",
       "      <td>1.0</td>\n",
       "      <td>0.0</td>\n",
       "    </tr>\n",
       "    <tr>\n",
       "      <th>6137</th>\n",
       "      <td>0.0</td>\n",
       "      <td>0.0</td>\n",
       "      <td>0.0</td>\n",
       "      <td>0.0</td>\n",
       "      <td>0.0</td>\n",
       "      <td>1.0</td>\n",
       "      <td>2.0</td>\n",
       "      <td>1.092781</td>\n",
       "      <td>0.150571</td>\n",
       "      <td>-0.108351</td>\n",
       "      <td>0.0</td>\n",
       "      <td>1.0</td>\n",
       "      <td>0.0</td>\n",
       "      <td>1.0</td>\n",
       "      <td>1.0</td>\n",
       "      <td>0.0</td>\n",
       "      <td>1.0</td>\n",
       "      <td>1.0</td>\n",
       "    </tr>\n",
       "    <tr>\n",
       "      <th>1681</th>\n",
       "      <td>0.0</td>\n",
       "      <td>0.0</td>\n",
       "      <td>1.0</td>\n",
       "      <td>1.0</td>\n",
       "      <td>0.0</td>\n",
       "      <td>1.0</td>\n",
       "      <td>2.0</td>\n",
       "      <td>-0.284435</td>\n",
       "      <td>-0.193608</td>\n",
       "      <td>-0.067372</td>\n",
       "      <td>1.0</td>\n",
       "      <td>0.0</td>\n",
       "      <td>0.0</td>\n",
       "      <td>1.0</td>\n",
       "      <td>0.0</td>\n",
       "      <td>1.0</td>\n",
       "      <td>0.0</td>\n",
       "      <td>0.0</td>\n",
       "    </tr>\n",
       "    <tr>\n",
       "      <th>6142</th>\n",
       "      <td>0.0</td>\n",
       "      <td>0.0</td>\n",
       "      <td>0.0</td>\n",
       "      <td>0.0</td>\n",
       "      <td>0.0</td>\n",
       "      <td>0.0</td>\n",
       "      <td>2.0</td>\n",
       "      <td>0.097834</td>\n",
       "      <td>-0.624962</td>\n",
       "      <td>-0.774938</td>\n",
       "      <td>0.0</td>\n",
       "      <td>1.0</td>\n",
       "      <td>0.0</td>\n",
       "      <td>0.0</td>\n",
       "      <td>0.0</td>\n",
       "      <td>0.0</td>\n",
       "      <td>0.0</td>\n",
       "      <td>0.0</td>\n",
       "    </tr>\n",
       "  </tbody>\n",
       "</table>\n",
       "</div>"
      ],
      "text/plain": [
       "      gender  SeniorCitizen  Partner  Dependents  Type  PaperlessBilling  \\\n",
       "1616     0.0            0.0      0.0         0.0   0.0               1.0   \n",
       "5677     1.0            1.0      0.0         0.0   0.0               1.0   \n",
       "6137     0.0            0.0      0.0         0.0   0.0               1.0   \n",
       "1681     0.0            0.0      1.0         1.0   0.0               1.0   \n",
       "6142     0.0            0.0      0.0         0.0   0.0               0.0   \n",
       "\n",
       "      PaymentMethod  MonthlyCharges  TotalCharges      days  MultipleLines  \\\n",
       "1616            2.0        0.637200      0.452304  0.305534            1.0   \n",
       "5677            0.0        0.591817     -0.702195 -0.896508            0.0   \n",
       "6137            2.0        1.092781      0.150571 -0.108351            0.0   \n",
       "1681            2.0       -0.284435     -0.193608 -0.067372            1.0   \n",
       "6142            2.0        0.097834     -0.624962 -0.774938            0.0   \n",
       "\n",
       "      InternetService  OnlineSecurity  OnlineBackup  DeviceProtection  \\\n",
       "1616              1.0             0.0           0.0               0.0   \n",
       "5677              1.0             1.0           0.0               0.0   \n",
       "6137              1.0             0.0           1.0               1.0   \n",
       "1681              0.0             0.0           1.0               0.0   \n",
       "6142              1.0             0.0           0.0               0.0   \n",
       "\n",
       "      TechSupport  StreamingTV  StreamingMovies  \n",
       "1616          0.0          1.0              0.0  \n",
       "5677          0.0          1.0              0.0  \n",
       "6137          0.0          1.0              1.0  \n",
       "1681          1.0          0.0              0.0  \n",
       "6142          0.0          0.0              0.0  "
      ]
     },
     "execution_count": 56,
     "metadata": {},
     "output_type": "execute_result"
    }
   ],
   "source": [
    "numeric = ['MonthlyCharges', 'TotalCharges', 'days']\n",
    "scaler = StandardScaler()\n",
    "scaler.fit(feat_ups[numeric])\n",
    "feat_ups[numeric] = scaler.transform(feat_ups[numeric])\n",
    "features_test[numeric] = scaler.transform(features_test[numeric])\n",
    "feat_ups.head()"
   ]
  },
  {
   "cell_type": "markdown",
   "metadata": {},
   "source": [
    "Codificación One-Hot y Escalado"
   ]
  },
  {
   "cell_type": "code",
   "execution_count": 57,
   "metadata": {},
   "outputs": [
    {
     "data": {
      "text/html": [
       "<div>\n",
       "<style scoped>\n",
       "    .dataframe tbody tr th:only-of-type {\n",
       "        vertical-align: middle;\n",
       "    }\n",
       "\n",
       "    .dataframe tbody tr th {\n",
       "        vertical-align: top;\n",
       "    }\n",
       "\n",
       "    .dataframe thead th {\n",
       "        text-align: right;\n",
       "    }\n",
       "</style>\n",
       "<table border=\"1\" class=\"dataframe\">\n",
       "  <thead>\n",
       "    <tr style=\"text-align: right;\">\n",
       "      <th></th>\n",
       "      <th>MonthlyCharges</th>\n",
       "      <th>TotalCharges</th>\n",
       "      <th>churn</th>\n",
       "      <th>days</th>\n",
       "      <th>gender_Male</th>\n",
       "      <th>SeniorCitizen_1</th>\n",
       "      <th>Partner_Yes</th>\n",
       "      <th>Dependents_Yes</th>\n",
       "      <th>Type_One year</th>\n",
       "      <th>Type_Two year</th>\n",
       "      <th>...</th>\n",
       "      <th>PaymentMethod_Mailed check</th>\n",
       "      <th>MultipleLines_True</th>\n",
       "      <th>InternetService_Fiber optic</th>\n",
       "      <th>InternetService_No</th>\n",
       "      <th>OnlineSecurity_True</th>\n",
       "      <th>OnlineBackup_True</th>\n",
       "      <th>DeviceProtection_True</th>\n",
       "      <th>TechSupport_True</th>\n",
       "      <th>StreamingTV_True</th>\n",
       "      <th>StreamingMovies_True</th>\n",
       "    </tr>\n",
       "  </thead>\n",
       "  <tbody>\n",
       "    <tr>\n",
       "      <th>0</th>\n",
       "      <td>29.85</td>\n",
       "      <td>29.85</td>\n",
       "      <td>0</td>\n",
       "      <td>31.0</td>\n",
       "      <td>0</td>\n",
       "      <td>0</td>\n",
       "      <td>1</td>\n",
       "      <td>0</td>\n",
       "      <td>0</td>\n",
       "      <td>0</td>\n",
       "      <td>...</td>\n",
       "      <td>0</td>\n",
       "      <td>0</td>\n",
       "      <td>0</td>\n",
       "      <td>0</td>\n",
       "      <td>0</td>\n",
       "      <td>1</td>\n",
       "      <td>0</td>\n",
       "      <td>0</td>\n",
       "      <td>0</td>\n",
       "      <td>0</td>\n",
       "    </tr>\n",
       "    <tr>\n",
       "      <th>1</th>\n",
       "      <td>56.95</td>\n",
       "      <td>1889.50</td>\n",
       "      <td>0</td>\n",
       "      <td>1036.0</td>\n",
       "      <td>1</td>\n",
       "      <td>0</td>\n",
       "      <td>0</td>\n",
       "      <td>0</td>\n",
       "      <td>1</td>\n",
       "      <td>0</td>\n",
       "      <td>...</td>\n",
       "      <td>1</td>\n",
       "      <td>0</td>\n",
       "      <td>0</td>\n",
       "      <td>0</td>\n",
       "      <td>1</td>\n",
       "      <td>0</td>\n",
       "      <td>1</td>\n",
       "      <td>0</td>\n",
       "      <td>0</td>\n",
       "      <td>0</td>\n",
       "    </tr>\n",
       "    <tr>\n",
       "      <th>2</th>\n",
       "      <td>53.85</td>\n",
       "      <td>108.15</td>\n",
       "      <td>1</td>\n",
       "      <td>61.0</td>\n",
       "      <td>1</td>\n",
       "      <td>0</td>\n",
       "      <td>0</td>\n",
       "      <td>0</td>\n",
       "      <td>0</td>\n",
       "      <td>0</td>\n",
       "      <td>...</td>\n",
       "      <td>1</td>\n",
       "      <td>0</td>\n",
       "      <td>0</td>\n",
       "      <td>0</td>\n",
       "      <td>1</td>\n",
       "      <td>1</td>\n",
       "      <td>0</td>\n",
       "      <td>0</td>\n",
       "      <td>0</td>\n",
       "      <td>0</td>\n",
       "    </tr>\n",
       "    <tr>\n",
       "      <th>3</th>\n",
       "      <td>42.30</td>\n",
       "      <td>1840.75</td>\n",
       "      <td>0</td>\n",
       "      <td>1371.0</td>\n",
       "      <td>1</td>\n",
       "      <td>0</td>\n",
       "      <td>0</td>\n",
       "      <td>0</td>\n",
       "      <td>1</td>\n",
       "      <td>0</td>\n",
       "      <td>...</td>\n",
       "      <td>0</td>\n",
       "      <td>0</td>\n",
       "      <td>0</td>\n",
       "      <td>0</td>\n",
       "      <td>1</td>\n",
       "      <td>0</td>\n",
       "      <td>1</td>\n",
       "      <td>1</td>\n",
       "      <td>0</td>\n",
       "      <td>0</td>\n",
       "    </tr>\n",
       "    <tr>\n",
       "      <th>4</th>\n",
       "      <td>70.70</td>\n",
       "      <td>151.65</td>\n",
       "      <td>1</td>\n",
       "      <td>61.0</td>\n",
       "      <td>0</td>\n",
       "      <td>0</td>\n",
       "      <td>0</td>\n",
       "      <td>0</td>\n",
       "      <td>0</td>\n",
       "      <td>0</td>\n",
       "      <td>...</td>\n",
       "      <td>0</td>\n",
       "      <td>0</td>\n",
       "      <td>1</td>\n",
       "      <td>0</td>\n",
       "      <td>0</td>\n",
       "      <td>0</td>\n",
       "      <td>0</td>\n",
       "      <td>0</td>\n",
       "      <td>0</td>\n",
       "      <td>0</td>\n",
       "    </tr>\n",
       "  </tbody>\n",
       "</table>\n",
       "<p>5 rows × 23 columns</p>\n",
       "</div>"
      ],
      "text/plain": [
       "   MonthlyCharges  TotalCharges  churn    days  gender_Male  SeniorCitizen_1  \\\n",
       "0           29.85         29.85      0    31.0            0                0   \n",
       "1           56.95       1889.50      0  1036.0            1                0   \n",
       "2           53.85        108.15      1    61.0            1                0   \n",
       "3           42.30       1840.75      0  1371.0            1                0   \n",
       "4           70.70        151.65      1    61.0            0                0   \n",
       "\n",
       "   Partner_Yes  Dependents_Yes  Type_One year  Type_Two year  ...  \\\n",
       "0            1               0              0              0  ...   \n",
       "1            0               0              1              0  ...   \n",
       "2            0               0              0              0  ...   \n",
       "3            0               0              1              0  ...   \n",
       "4            0               0              0              0  ...   \n",
       "\n",
       "   PaymentMethod_Mailed check  MultipleLines_True  \\\n",
       "0                           0                   0   \n",
       "1                           1                   0   \n",
       "2                           1                   0   \n",
       "3                           0                   0   \n",
       "4                           0                   0   \n",
       "\n",
       "   InternetService_Fiber optic  InternetService_No  OnlineSecurity_True  \\\n",
       "0                            0                   0                    0   \n",
       "1                            0                   0                    1   \n",
       "2                            0                   0                    1   \n",
       "3                            0                   0                    1   \n",
       "4                            1                   0                    0   \n",
       "\n",
       "   OnlineBackup_True  DeviceProtection_True  TechSupport_True  \\\n",
       "0                  1                      0                 0   \n",
       "1                  0                      1                 0   \n",
       "2                  1                      0                 0   \n",
       "3                  0                      1                 1   \n",
       "4                  0                      0                 0   \n",
       "\n",
       "   StreamingTV_True  StreamingMovies_True  \n",
       "0                 0                     0  \n",
       "1                 0                     0  \n",
       "2                 0                     0  \n",
       "3                 0                     0  \n",
       "4                 0                     0  \n",
       "\n",
       "[5 rows x 23 columns]"
      ]
     },
     "execution_count": 57,
     "metadata": {},
     "output_type": "execute_result"
    }
   ],
   "source": [
    "data_ohe=pd.get_dummies(data_final, drop_first=True)\n",
    "data_ohe.head()"
   ]
  },
  {
   "cell_type": "code",
   "execution_count": 58,
   "metadata": {},
   "outputs": [
    {
     "name": "stdout",
     "output_type": "stream",
     "text": [
      "(5274, 22)\n",
      "(5274,)\n",
      "(1758, 22)\n",
      "(1758,)\n"
     ]
    }
   ],
   "source": [
    "feat=data_ohe.drop('churn', axis=1)\n",
    "target=data_ohe['churn']\n",
    "f_train, f_test, t_train, t_test=train_test_split(feat, target,\\\n",
    "                                                                                      test_size=0.25,\\\n",
    "                                                                                     random_state=12345)\n",
    "print(f_train.shape)\n",
    "print(t_train.shape)\n",
    "print(f_test.shape)\n",
    "print(t_test.shape)"
   ]
  },
  {
   "cell_type": "code",
   "execution_count": 59,
   "metadata": {},
   "outputs": [
    {
     "name": "stdout",
     "output_type": "stream",
     "text": [
      "(8082, 22) (8082,)\n"
     ]
    }
   ],
   "source": [
    "f_ohe, t_ohe = upsample(f_train, t_train, 3)\n",
    "print(f_ohe.shape, t_ohe.shape)"
   ]
  },
  {
   "cell_type": "code",
   "execution_count": 60,
   "metadata": {},
   "outputs": [
    {
     "name": "stderr",
     "output_type": "stream",
     "text": [
      "/tmp/ipykernel_795/1401385081.py:5: SettingWithCopyWarning: \n",
      "A value is trying to be set on a copy of a slice from a DataFrame.\n",
      "Try using .loc[row_indexer,col_indexer] = value instead\n",
      "\n",
      "See the caveats in the documentation: https://pandas.pydata.org/pandas-docs/stable/user_guide/indexing.html#returning-a-view-versus-a-copy\n",
      "  f_test[numeric] = scaler.transform(f_test[numeric])\n",
      "/opt/conda/lib/python3.9/site-packages/pandas/core/indexing.py:1738: SettingWithCopyWarning: \n",
      "A value is trying to be set on a copy of a slice from a DataFrame.\n",
      "Try using .loc[row_indexer,col_indexer] = value instead\n",
      "\n",
      "See the caveats in the documentation: https://pandas.pydata.org/pandas-docs/stable/user_guide/indexing.html#returning-a-view-versus-a-copy\n",
      "  self._setitem_single_column(loc, value[:, i].tolist(), pi)\n"
     ]
    },
    {
     "data": {
      "text/html": [
       "<div>\n",
       "<style scoped>\n",
       "    .dataframe tbody tr th:only-of-type {\n",
       "        vertical-align: middle;\n",
       "    }\n",
       "\n",
       "    .dataframe tbody tr th {\n",
       "        vertical-align: top;\n",
       "    }\n",
       "\n",
       "    .dataframe thead th {\n",
       "        text-align: right;\n",
       "    }\n",
       "</style>\n",
       "<table border=\"1\" class=\"dataframe\">\n",
       "  <thead>\n",
       "    <tr style=\"text-align: right;\">\n",
       "      <th></th>\n",
       "      <th>MonthlyCharges</th>\n",
       "      <th>TotalCharges</th>\n",
       "      <th>days</th>\n",
       "      <th>gender_Male</th>\n",
       "      <th>SeniorCitizen_1</th>\n",
       "      <th>Partner_Yes</th>\n",
       "      <th>Dependents_Yes</th>\n",
       "      <th>Type_One year</th>\n",
       "      <th>Type_Two year</th>\n",
       "      <th>PaperlessBilling_Yes</th>\n",
       "      <th>...</th>\n",
       "      <th>PaymentMethod_Mailed check</th>\n",
       "      <th>MultipleLines_True</th>\n",
       "      <th>InternetService_Fiber optic</th>\n",
       "      <th>InternetService_No</th>\n",
       "      <th>OnlineSecurity_True</th>\n",
       "      <th>OnlineBackup_True</th>\n",
       "      <th>DeviceProtection_True</th>\n",
       "      <th>TechSupport_True</th>\n",
       "      <th>StreamingTV_True</th>\n",
       "      <th>StreamingMovies_True</th>\n",
       "    </tr>\n",
       "  </thead>\n",
       "  <tbody>\n",
       "    <tr>\n",
       "      <th>1616</th>\n",
       "      <td>0.637200</td>\n",
       "      <td>0.452304</td>\n",
       "      <td>0.305534</td>\n",
       "      <td>0</td>\n",
       "      <td>0</td>\n",
       "      <td>0</td>\n",
       "      <td>0</td>\n",
       "      <td>0</td>\n",
       "      <td>0</td>\n",
       "      <td>1</td>\n",
       "      <td>...</td>\n",
       "      <td>0</td>\n",
       "      <td>1</td>\n",
       "      <td>1</td>\n",
       "      <td>0</td>\n",
       "      <td>0</td>\n",
       "      <td>0</td>\n",
       "      <td>0</td>\n",
       "      <td>0</td>\n",
       "      <td>1</td>\n",
       "      <td>0</td>\n",
       "    </tr>\n",
       "    <tr>\n",
       "      <th>5677</th>\n",
       "      <td>0.591817</td>\n",
       "      <td>-0.702195</td>\n",
       "      <td>-0.896508</td>\n",
       "      <td>1</td>\n",
       "      <td>1</td>\n",
       "      <td>0</td>\n",
       "      <td>0</td>\n",
       "      <td>0</td>\n",
       "      <td>0</td>\n",
       "      <td>1</td>\n",
       "      <td>...</td>\n",
       "      <td>0</td>\n",
       "      <td>0</td>\n",
       "      <td>1</td>\n",
       "      <td>0</td>\n",
       "      <td>1</td>\n",
       "      <td>0</td>\n",
       "      <td>0</td>\n",
       "      <td>0</td>\n",
       "      <td>1</td>\n",
       "      <td>0</td>\n",
       "    </tr>\n",
       "    <tr>\n",
       "      <th>6137</th>\n",
       "      <td>1.092781</td>\n",
       "      <td>0.150571</td>\n",
       "      <td>-0.108351</td>\n",
       "      <td>0</td>\n",
       "      <td>0</td>\n",
       "      <td>0</td>\n",
       "      <td>0</td>\n",
       "      <td>0</td>\n",
       "      <td>0</td>\n",
       "      <td>1</td>\n",
       "      <td>...</td>\n",
       "      <td>0</td>\n",
       "      <td>0</td>\n",
       "      <td>1</td>\n",
       "      <td>0</td>\n",
       "      <td>0</td>\n",
       "      <td>1</td>\n",
       "      <td>1</td>\n",
       "      <td>0</td>\n",
       "      <td>1</td>\n",
       "      <td>1</td>\n",
       "    </tr>\n",
       "    <tr>\n",
       "      <th>1681</th>\n",
       "      <td>-0.284435</td>\n",
       "      <td>-0.193608</td>\n",
       "      <td>-0.067372</td>\n",
       "      <td>0</td>\n",
       "      <td>0</td>\n",
       "      <td>1</td>\n",
       "      <td>1</td>\n",
       "      <td>0</td>\n",
       "      <td>0</td>\n",
       "      <td>1</td>\n",
       "      <td>...</td>\n",
       "      <td>0</td>\n",
       "      <td>1</td>\n",
       "      <td>0</td>\n",
       "      <td>0</td>\n",
       "      <td>0</td>\n",
       "      <td>1</td>\n",
       "      <td>0</td>\n",
       "      <td>1</td>\n",
       "      <td>0</td>\n",
       "      <td>0</td>\n",
       "    </tr>\n",
       "    <tr>\n",
       "      <th>6142</th>\n",
       "      <td>0.097834</td>\n",
       "      <td>-0.624962</td>\n",
       "      <td>-0.774938</td>\n",
       "      <td>0</td>\n",
       "      <td>0</td>\n",
       "      <td>0</td>\n",
       "      <td>0</td>\n",
       "      <td>0</td>\n",
       "      <td>0</td>\n",
       "      <td>0</td>\n",
       "      <td>...</td>\n",
       "      <td>0</td>\n",
       "      <td>0</td>\n",
       "      <td>1</td>\n",
       "      <td>0</td>\n",
       "      <td>0</td>\n",
       "      <td>0</td>\n",
       "      <td>0</td>\n",
       "      <td>0</td>\n",
       "      <td>0</td>\n",
       "      <td>0</td>\n",
       "    </tr>\n",
       "  </tbody>\n",
       "</table>\n",
       "<p>5 rows × 22 columns</p>\n",
       "</div>"
      ],
      "text/plain": [
       "      MonthlyCharges  TotalCharges      days  gender_Male  SeniorCitizen_1  \\\n",
       "1616        0.637200      0.452304  0.305534            0                0   \n",
       "5677        0.591817     -0.702195 -0.896508            1                1   \n",
       "6137        1.092781      0.150571 -0.108351            0                0   \n",
       "1681       -0.284435     -0.193608 -0.067372            0                0   \n",
       "6142        0.097834     -0.624962 -0.774938            0                0   \n",
       "\n",
       "      Partner_Yes  Dependents_Yes  Type_One year  Type_Two year  \\\n",
       "1616            0               0              0              0   \n",
       "5677            0               0              0              0   \n",
       "6137            0               0              0              0   \n",
       "1681            1               1              0              0   \n",
       "6142            0               0              0              0   \n",
       "\n",
       "      PaperlessBilling_Yes  ...  PaymentMethod_Mailed check  \\\n",
       "1616                     1  ...                           0   \n",
       "5677                     1  ...                           0   \n",
       "6137                     1  ...                           0   \n",
       "1681                     1  ...                           0   \n",
       "6142                     0  ...                           0   \n",
       "\n",
       "      MultipleLines_True  InternetService_Fiber optic  InternetService_No  \\\n",
       "1616                   1                            1                   0   \n",
       "5677                   0                            1                   0   \n",
       "6137                   0                            1                   0   \n",
       "1681                   1                            0                   0   \n",
       "6142                   0                            1                   0   \n",
       "\n",
       "      OnlineSecurity_True  OnlineBackup_True  DeviceProtection_True  \\\n",
       "1616                    0                  0                      0   \n",
       "5677                    1                  0                      0   \n",
       "6137                    0                  1                      1   \n",
       "1681                    0                  1                      0   \n",
       "6142                    0                  0                      0   \n",
       "\n",
       "      TechSupport_True  StreamingTV_True  StreamingMovies_True  \n",
       "1616                 0                 1                     0  \n",
       "5677                 0                 1                     0  \n",
       "6137                 0                 1                     1  \n",
       "1681                 1                 0                     0  \n",
       "6142                 0                 0                     0  \n",
       "\n",
       "[5 rows x 22 columns]"
      ]
     },
     "execution_count": 60,
     "metadata": {},
     "output_type": "execute_result"
    }
   ],
   "source": [
    "numeric = ['MonthlyCharges', 'TotalCharges', 'days']\n",
    "scaler = StandardScaler()\n",
    "scaler.fit(f_ohe[numeric])\n",
    "f_ohe[numeric] = scaler.transform(f_ohe[numeric])\n",
    "f_test[numeric] = scaler.transform(f_test[numeric])\n",
    "f_ohe.head()"
   ]
  },
  {
   "cell_type": "markdown",
   "metadata": {},
   "source": [
    "Solo Escalado (sin codificación)"
   ]
  },
  {
   "cell_type": "code",
   "execution_count": 61,
   "metadata": {},
   "outputs": [
    {
     "name": "stdout",
     "output_type": "stream",
     "text": [
      "(5274, 18)\n",
      "(5274,)\n",
      "(1758, 18)\n",
      "(1758,)\n"
     ]
    }
   ],
   "source": [
    "no_enc=data_final.copy()\n",
    "feat=no_enc.drop('churn', axis=1)\n",
    "target=no_enc['churn']\n",
    "ft_train, ft_test, tr_train, tr_test=train_test_split(feat, target,\\\n",
    "                                                                                      test_size=0.25,\\\n",
    "                                                                                     random_state=12345)\n",
    "print(ft_train.shape)\n",
    "print(tr_train.shape)\n",
    "print(ft_test.shape)\n",
    "print(tr_test.shape)"
   ]
  },
  {
   "cell_type": "code",
   "execution_count": 62,
   "metadata": {},
   "outputs": [
    {
     "name": "stdout",
     "output_type": "stream",
     "text": [
      "(8082, 18) (8082,)\n"
     ]
    }
   ],
   "source": [
    "f_ne, t_ne = upsample(ft_train, tr_train, 3)\n",
    "print(f_ne.shape, t_ne.shape)"
   ]
  },
  {
   "cell_type": "code",
   "execution_count": 63,
   "metadata": {},
   "outputs": [
    {
     "name": "stderr",
     "output_type": "stream",
     "text": [
      "/tmp/ipykernel_795/3690103288.py:5: SettingWithCopyWarning: \n",
      "A value is trying to be set on a copy of a slice from a DataFrame.\n",
      "Try using .loc[row_indexer,col_indexer] = value instead\n",
      "\n",
      "See the caveats in the documentation: https://pandas.pydata.org/pandas-docs/stable/user_guide/indexing.html#returning-a-view-versus-a-copy\n",
      "  ft_test[numeric] = scaler.transform(ft_test[numeric])\n",
      "/opt/conda/lib/python3.9/site-packages/pandas/core/indexing.py:1738: SettingWithCopyWarning: \n",
      "A value is trying to be set on a copy of a slice from a DataFrame.\n",
      "Try using .loc[row_indexer,col_indexer] = value instead\n",
      "\n",
      "See the caveats in the documentation: https://pandas.pydata.org/pandas-docs/stable/user_guide/indexing.html#returning-a-view-versus-a-copy\n",
      "  self._setitem_single_column(loc, value[:, i].tolist(), pi)\n"
     ]
    },
    {
     "data": {
      "text/html": [
       "<div>\n",
       "<style scoped>\n",
       "    .dataframe tbody tr th:only-of-type {\n",
       "        vertical-align: middle;\n",
       "    }\n",
       "\n",
       "    .dataframe tbody tr th {\n",
       "        vertical-align: top;\n",
       "    }\n",
       "\n",
       "    .dataframe thead th {\n",
       "        text-align: right;\n",
       "    }\n",
       "</style>\n",
       "<table border=\"1\" class=\"dataframe\">\n",
       "  <thead>\n",
       "    <tr style=\"text-align: right;\">\n",
       "      <th></th>\n",
       "      <th>gender</th>\n",
       "      <th>SeniorCitizen</th>\n",
       "      <th>Partner</th>\n",
       "      <th>Dependents</th>\n",
       "      <th>Type</th>\n",
       "      <th>PaperlessBilling</th>\n",
       "      <th>PaymentMethod</th>\n",
       "      <th>MonthlyCharges</th>\n",
       "      <th>TotalCharges</th>\n",
       "      <th>days</th>\n",
       "      <th>MultipleLines</th>\n",
       "      <th>InternetService</th>\n",
       "      <th>OnlineSecurity</th>\n",
       "      <th>OnlineBackup</th>\n",
       "      <th>DeviceProtection</th>\n",
       "      <th>TechSupport</th>\n",
       "      <th>StreamingTV</th>\n",
       "      <th>StreamingMovies</th>\n",
       "    </tr>\n",
       "  </thead>\n",
       "  <tbody>\n",
       "    <tr>\n",
       "      <th>1616</th>\n",
       "      <td>Female</td>\n",
       "      <td>0</td>\n",
       "      <td>No</td>\n",
       "      <td>No</td>\n",
       "      <td>Month-to-month</td>\n",
       "      <td>Yes</td>\n",
       "      <td>Electronic check</td>\n",
       "      <td>0.637200</td>\n",
       "      <td>0.452304</td>\n",
       "      <td>0.305534</td>\n",
       "      <td>True</td>\n",
       "      <td>Fiber optic</td>\n",
       "      <td>False</td>\n",
       "      <td>False</td>\n",
       "      <td>False</td>\n",
       "      <td>False</td>\n",
       "      <td>True</td>\n",
       "      <td>False</td>\n",
       "    </tr>\n",
       "    <tr>\n",
       "      <th>5677</th>\n",
       "      <td>Male</td>\n",
       "      <td>1</td>\n",
       "      <td>No</td>\n",
       "      <td>No</td>\n",
       "      <td>Month-to-month</td>\n",
       "      <td>Yes</td>\n",
       "      <td>Bank transfer (automatic)</td>\n",
       "      <td>0.591817</td>\n",
       "      <td>-0.702195</td>\n",
       "      <td>-0.896508</td>\n",
       "      <td>False</td>\n",
       "      <td>Fiber optic</td>\n",
       "      <td>True</td>\n",
       "      <td>False</td>\n",
       "      <td>False</td>\n",
       "      <td>False</td>\n",
       "      <td>True</td>\n",
       "      <td>False</td>\n",
       "    </tr>\n",
       "    <tr>\n",
       "      <th>6137</th>\n",
       "      <td>Female</td>\n",
       "      <td>0</td>\n",
       "      <td>No</td>\n",
       "      <td>No</td>\n",
       "      <td>Month-to-month</td>\n",
       "      <td>Yes</td>\n",
       "      <td>Electronic check</td>\n",
       "      <td>1.092781</td>\n",
       "      <td>0.150571</td>\n",
       "      <td>-0.108351</td>\n",
       "      <td>False</td>\n",
       "      <td>Fiber optic</td>\n",
       "      <td>False</td>\n",
       "      <td>True</td>\n",
       "      <td>True</td>\n",
       "      <td>False</td>\n",
       "      <td>True</td>\n",
       "      <td>True</td>\n",
       "    </tr>\n",
       "    <tr>\n",
       "      <th>1681</th>\n",
       "      <td>Female</td>\n",
       "      <td>0</td>\n",
       "      <td>Yes</td>\n",
       "      <td>Yes</td>\n",
       "      <td>Month-to-month</td>\n",
       "      <td>Yes</td>\n",
       "      <td>Electronic check</td>\n",
       "      <td>-0.284435</td>\n",
       "      <td>-0.193608</td>\n",
       "      <td>-0.067372</td>\n",
       "      <td>True</td>\n",
       "      <td>DSL</td>\n",
       "      <td>False</td>\n",
       "      <td>True</td>\n",
       "      <td>False</td>\n",
       "      <td>True</td>\n",
       "      <td>False</td>\n",
       "      <td>False</td>\n",
       "    </tr>\n",
       "    <tr>\n",
       "      <th>6142</th>\n",
       "      <td>Female</td>\n",
       "      <td>0</td>\n",
       "      <td>No</td>\n",
       "      <td>No</td>\n",
       "      <td>Month-to-month</td>\n",
       "      <td>No</td>\n",
       "      <td>Electronic check</td>\n",
       "      <td>0.097834</td>\n",
       "      <td>-0.624962</td>\n",
       "      <td>-0.774938</td>\n",
       "      <td>False</td>\n",
       "      <td>Fiber optic</td>\n",
       "      <td>False</td>\n",
       "      <td>False</td>\n",
       "      <td>False</td>\n",
       "      <td>False</td>\n",
       "      <td>False</td>\n",
       "      <td>False</td>\n",
       "    </tr>\n",
       "  </tbody>\n",
       "</table>\n",
       "</div>"
      ],
      "text/plain": [
       "      gender SeniorCitizen Partner Dependents            Type  \\\n",
       "1616  Female             0      No         No  Month-to-month   \n",
       "5677    Male             1      No         No  Month-to-month   \n",
       "6137  Female             0      No         No  Month-to-month   \n",
       "1681  Female             0     Yes        Yes  Month-to-month   \n",
       "6142  Female             0      No         No  Month-to-month   \n",
       "\n",
       "     PaperlessBilling              PaymentMethod  MonthlyCharges  \\\n",
       "1616              Yes           Electronic check        0.637200   \n",
       "5677              Yes  Bank transfer (automatic)        0.591817   \n",
       "6137              Yes           Electronic check        1.092781   \n",
       "1681              Yes           Electronic check       -0.284435   \n",
       "6142               No           Electronic check        0.097834   \n",
       "\n",
       "      TotalCharges      days MultipleLines InternetService OnlineSecurity  \\\n",
       "1616      0.452304  0.305534          True     Fiber optic          False   \n",
       "5677     -0.702195 -0.896508         False     Fiber optic           True   \n",
       "6137      0.150571 -0.108351         False     Fiber optic          False   \n",
       "1681     -0.193608 -0.067372          True             DSL          False   \n",
       "6142     -0.624962 -0.774938         False     Fiber optic          False   \n",
       "\n",
       "     OnlineBackup DeviceProtection TechSupport StreamingTV StreamingMovies  \n",
       "1616        False            False       False        True           False  \n",
       "5677        False            False       False        True           False  \n",
       "6137         True             True       False        True            True  \n",
       "1681         True            False        True       False           False  \n",
       "6142        False            False       False       False           False  "
      ]
     },
     "execution_count": 63,
     "metadata": {},
     "output_type": "execute_result"
    }
   ],
   "source": [
    "numeric = ['MonthlyCharges', 'TotalCharges', 'days']\n",
    "scaler = StandardScaler()\n",
    "scaler.fit(f_ne[numeric])\n",
    "f_ne[numeric] = scaler.transform(f_ne[numeric])\n",
    "ft_test[numeric] = scaler.transform(ft_test[numeric])\n",
    "f_ne.head()"
   ]
  },
  {
   "cell_type": "markdown",
   "metadata": {},
   "source": [
    "- Regresión logística"
   ]
  },
  {
   "cell_type": "code",
   "execution_count": 64,
   "metadata": {},
   "outputs": [
    {
     "name": "stdout",
     "output_type": "stream",
     "text": [
      "0.836839486424871\n"
     ]
    }
   ],
   "source": [
    "lr = LogisticRegression(solver='liblinear')\n",
    "lr_score=cross_val_score(lr, feat_ups, targ_ups, scoring='roc_auc', cv=5)\n",
    "print(lr_score.mean())"
   ]
  },
  {
   "cell_type": "code",
   "execution_count": 65,
   "metadata": {},
   "outputs": [
    {
     "name": "stdout",
     "output_type": "stream",
     "text": [
      "0.8442112783213371\n"
     ]
    }
   ],
   "source": [
    "lr = LogisticRegression(solver='liblinear')\n",
    "lr_score=cross_val_score(lr, f_ohe, t_ohe, scoring='roc_auc', cv=5)\n",
    "print(lr_score.mean())"
   ]
  },
  {
   "cell_type": "markdown",
   "metadata": {},
   "source": [
    "- Random Forest"
   ]
  },
  {
   "cell_type": "markdown",
   "metadata": {},
   "source": [
    "Validación cruzada de Random Forest utilizando datos con codificación ordinal y escalada"
   ]
  },
  {
   "cell_type": "code",
   "execution_count": 66,
   "metadata": {},
   "outputs": [
    {
     "name": "stdout",
     "output_type": "stream",
     "text": [
      "Max_depth 21 score: 0.9794981497692191\n",
      "Max_depth 22 score: 0.9792014508007542\n",
      "Max_depth 23 score: 0.9789806589508052\n",
      "Max_depth 24 score: 0.9794802267950187\n",
      "Max_depth 25 score: 0.9791136162684507\n"
     ]
    }
   ],
   "source": [
    "for depth in range(21, 26):\n",
    "    rf=RandomForestClassifier(n_estimators=40, max_depth=depth, random_state=12345)\n",
    "    rf_score=cross_val_score(rf, feat_ups, targ_ups, scoring='roc_auc', cv=5)\n",
    "    print('Max_depth', depth, 'score:', rf_score.mean())"
   ]
  },
  {
   "cell_type": "markdown",
   "metadata": {},
   "source": [
    "Validación cruzada de Random Forest utilizando datos con codificación y escalado One-Hot"
   ]
  },
  {
   "cell_type": "code",
   "execution_count": 67,
   "metadata": {},
   "outputs": [
    {
     "name": "stdout",
     "output_type": "stream",
     "text": [
      "Max_depth 21 score: 0.9781700948225028\n",
      "Max_depth 22 score: 0.9784966434508752\n",
      "Max_depth 23 score: 0.9779276846260739\n",
      "Max_depth 24 score: 0.9777353454316857\n",
      "Max_depth 25 score: 0.9781898349034643\n"
     ]
    }
   ],
   "source": [
    "for depth in range(21, 26):\n",
    "    rf=RandomForestClassifier(n_estimators=40, max_depth=depth, random_state=12345)\n",
    "    rf_score=cross_val_score(rf, f_ohe, t_ohe, scoring='roc_auc', cv=5)\n",
    "    print('Max_depth', depth, 'score:', rf_score.mean())"
   ]
  },
  {
   "cell_type": "markdown",
   "metadata": {},
   "source": [
    "- CatBoost"
   ]
  },
  {
   "cell_type": "markdown",
   "metadata": {},
   "source": [
    "Validación cruzada de CatBoost en datos con codificación ordinal y escalada"
   ]
  },
  {
   "cell_type": "code",
   "execution_count": null,
   "metadata": {},
   "outputs": [
    {
     "name": "stdout",
     "output_type": "stream",
     "text": [
      "0:\tlearn: 0.6413112\ttotal: 49.8ms\tremaining: 49.8s\n",
      "1:\tlearn: 0.6087988\ttotal: 53.5ms\tremaining: 26.7s\n",
      "2:\tlearn: 0.5821230\ttotal: 57ms\tremaining: 18.9s\n",
      "3:\tlearn: 0.5630570\ttotal: 60.3ms\tremaining: 15s\n",
      "4:\tlearn: 0.5468344\ttotal: 63.7ms\tremaining: 12.7s\n",
      "5:\tlearn: 0.5319885\ttotal: 67.4ms\tremaining: 11.2s\n",
      "6:\tlearn: 0.5192381\ttotal: 71ms\tremaining: 10.1s\n",
      "7:\tlearn: 0.5097643\ttotal: 74.5ms\tremaining: 9.24s\n",
      "8:\tlearn: 0.5025755\ttotal: 77.9ms\tremaining: 8.58s\n",
      "9:\tlearn: 0.4934332\ttotal: 81.5ms\tremaining: 8.06s\n",
      "10:\tlearn: 0.4875530\ttotal: 84.9ms\tremaining: 7.63s\n",
      "11:\tlearn: 0.4823530\ttotal: 88.3ms\tremaining: 7.27s\n",
      "12:\tlearn: 0.4783209\ttotal: 91.7ms\tremaining: 6.96s\n",
      "13:\tlearn: 0.4719718\ttotal: 95.8ms\tremaining: 6.75s\n",
      "14:\tlearn: 0.4659346\ttotal: 99.7ms\tremaining: 6.55s\n",
      "15:\tlearn: 0.4619396\ttotal: 104ms\tremaining: 6.38s\n",
      "16:\tlearn: 0.4587881\ttotal: 108ms\tremaining: 6.22s\n"
     ]
    }
   ],
   "source": [
    "cb=CatBoostClassifier(loss_function='Logloss',\n",
    "                      learning_rate= 0.1,\n",
    "                      random_seed=12345)\n",
    "cb_score=cross_val_score(cb, feat_ups, targ_ups, scoring='roc_auc', cv=5)"
   ]
  },
  {
   "cell_type": "code",
   "execution_count": null,
   "metadata": {},
   "outputs": [],
   "source": [
    "print(cb_score.mean())"
   ]
  },
  {
   "cell_type": "markdown",
   "metadata": {},
   "source": [
    "Validación cruzada de CatBoost con datos escalados pero no codificados"
   ]
  },
  {
   "cell_type": "code",
   "execution_count": null,
   "metadata": {},
   "outputs": [],
   "source": [
    "cat_feat=['MultipleLines', 'InternetService', 'OnlineSecurity', 'OnlineBackup', 'DeviceProtection',\n",
    "'TechSupport', 'StreamingTV', 'StreamingMovies', 'gender', 'SeniorCitizen', 'Partner',\n",
    "'Dependents', 'Type', 'PaperlessBilling', 'PaymentMethod']\n",
    "cb=CatBoostClassifier(loss_function='Logloss',\n",
    "                      learning_rate= 0.1,\n",
    "                      random_seed=12345)\n",
    "cb.fit(f_ne, t_ne, cat_features=cat_feat, verbose=False, plot=False)\n",
    "cb_score=cross_val_score(cb, feat_ups, targ_ups, scoring='roc_auc', cv=5)"
   ]
  },
  {
   "cell_type": "code",
   "execution_count": null,
   "metadata": {},
   "outputs": [],
   "source": [
    "print(cb_score.mean())"
   ]
  },
  {
   "cell_type": "markdown",
   "metadata": {},
   "source": [
    "- LightGBM"
   ]
  },
  {
   "cell_type": "markdown",
   "metadata": {},
   "source": [
    "Validación cruzada de LGBM en datos con codificación ordinal y escalada"
   ]
  },
  {
   "cell_type": "code",
   "execution_count": null,
   "metadata": {},
   "outputs": [],
   "source": [
    "lgbm=LGBMClassifier(objective='binary',\n",
    "                    learning_rate= 0.7,\n",
    "                    random_state=12345)\n",
    "lgbm_score=cross_val_score(lgbm, feat_ups, targ_ups, scoring='roc_auc', cv=5)\n",
    "print(lgbm_score.mean())"
   ]
  },
  {
   "cell_type": "markdown",
   "metadata": {},
   "source": [
    "Validación cruzada de LGBM con datos escalados pero no codificados"
   ]
  },
  {
   "cell_type": "code",
   "execution_count": null,
   "metadata": {},
   "outputs": [],
   "source": [
    "lgbm=LGBMClassifier(objective='binary',\n",
    "                    learning_rate= 0.6,\n",
    "                    random_state=12345)\n",
    "lgbm_score=cross_val_score(lgbm, f_ne, t_ne, scoring='roc_auc', cv=5)\n",
    "print(lgbm_score.mean())"
   ]
  },
  {
   "cell_type": "markdown",
   "metadata": {},
   "source": [
    "## Testing Final"
   ]
  },
  {
   "cell_type": "code",
   "execution_count": null,
   "metadata": {},
   "outputs": [],
   "source": [
    "cat_feat=['MultipleLines', 'InternetService', 'OnlineSecurity', 'OnlineBackup', 'DeviceProtection',\n",
    "'TechSupport', 'StreamingTV', 'StreamingMovies', 'gender', 'SeniorCitizen', 'Partner',\n",
    "'Dependents', 'Type', 'PaperlessBilling', 'PaymentMethod']\n",
    "cb=CatBoostClassifier(loss_function='Logloss',\n",
    "                      learning_rate= 0.1,\n",
    "                      random_seed=12345)\n",
    "cb.fit(f_ne, t_ne, cat_features=cat_feat, verbose=False, plot=False)\n",
    "pred=cb.predict(ft_test)\n",
    "acc=accuracy_score(tr_test, pred)\n",
    "probab=cb.predict_proba(ft_test)\n",
    "auc=roc_auc_score(tr_test, probab[:,1])\n",
    "print('AUC-ROC =', auc)\n",
    "print('Exactitud  =', acc)"
   ]
  },
  {
   "cell_type": "markdown",
   "metadata": {},
   "source": [
    "<div class=\"alert alert-block alert-warning\">\n",
    "<b>Comentario del revisor</b> <a class=\"tocSkip\"></a>\n",
    "Buen trabajo en tu proyecto. Pero podrías asegurarte al enviar que se carge esta sección con las celdas ejecutadas. esto nos ayuda mucho como revisores para no instalar paquetes adicionales y sobre todo porque los modelos de entrenamiento toman algo de tiempo en correr. \n",
    "</div>\n"
   ]
  },
  {
   "cell_type": "markdown",
   "metadata": {},
   "source": [
    "## Conclusiones"
   ]
  },
  {
   "cell_type": "markdown",
   "metadata": {},
   "source": [
    "Analicé los datos y descubrí que los clientes que se dieron de baja generalmente pagaban cuotas mensuales más altas. La mayoría de ellos también usaban métodos de pago electrónicos, por lo que este sistema podría ser un área a revisar.\n",
    "\n",
    "Entrené cuatro modelos diferentes: Regresión Logística, Random Forest, CatBoost y LightGBM. Después de la validación cruzada, el modelo CatBoost obtuvo la mejor puntuación (0,98) en el conjunto de entrenamiento.\n",
    "\n",
    "Luego, probé el modelo CatBoost en el conjunto de pruebas y obtuve una puntuación AUC-ROC de ~0,92 y una precisión de ~86%. Estos resultados son bastante buenos, lo que indica que el modelo CatBoost es capaz de predecir con precisión la probabilidad de que un cliente se dé de baja."
   ]
  },
  {
   "cell_type": "markdown",
   "metadata": {},
   "source": [
    "En base a estos hallazgos, puedo recomendar dos acciones:\n",
    "\n",
    "- Revisar el sistema de pago electrónico, ya que es importante asegurarse de que el sistema funcione correctamente y que sea fácil de usar para los clientes. También se podría considerar ofrecer opciones de pago alternativas, como el pago en efectivo o con tarjeta de crédito.\n",
    "- Realizar un análisis más profundo de los clientes que pagan cuotas altas, ya que es posible que haya otros factores que influyen en la decisión de estos clientes de cancelar el servicio, como la insatisfacción con el servicio al cliente o la falta de características que consideren importantes."
   ]
  },
  {
   "cell_type": "markdown",
   "metadata": {},
   "source": [
    "Además de estas recomendaciones, también se podrían implementar otras estrategias para reducir la tasa de churn:\n",
    "\n",
    "- Ofrecer descuentos o promociones a los clientes que están considerando cancelar el servicio.\n",
    "- Mejorar la comunicación con los clientes para asegurarse de que están satisfechos con el servicio.\n",
    "- Implementar un programa de fidelización para recompensar a los clientes que permanecen con la empresa durante un período de tiempo determinado.\n",
    "\n",
    "Es importante recordar que la tasa de churn es un indicador clave del rendimiento de una empresa. Al tomar medidas para reducir la tasa de churn, las empresas pueden mejorar su rentabilidad y aumentar la satisfacción de sus clientes."
   ]
  },
  {
   "cell_type": "markdown",
   "metadata": {},
   "source": [
    "<div class=\"alert alert-block alert-warning\">\n",
    "<b>Comentario del revisor</b> <a class=\"tocSkip\"></a>\n",
    "<strong>Lamentablemente, no podemos aprobar tu proyecto en este momento.</strong> Es importante que atiendas los siguientes puntos para asegurar que tu análisis cumpla con los estándares requeridos y pueda ser aprobado:<br><br>\n",
    "\n",
    "- <strong>Selección de Características:</strong>\n",
    "  <ul>\n",
    "    <li>Implementa una etapa de selección de características antes de entrenar los modelos. Utiliza técnicas de filtrado básicas, como análisis de correlación, y explora métodos más avanzados (por ejemplo, Boruta y SHAP) para identificar las características más relevantes.</li>\n",
    "    <li>Esta etapa es crucial para mejorar la precisión de tus modelos y evitar el overfitting.</li>\n",
    "  </ul><br>\n",
    "\n",
    "\n",
    "<strong>Te animo a revisar estos aspectos y realizar las correcciones necesarias.</strong> Recuerda que el proceso de aprendizaje está lleno de desafíos y superarlos es parte de tu formación como analista de datos. Estoy seguro de que, con estos ajustes, tu proyecto no solo cumplirá con los requisitos sino que también reflejará la calidad de tu trabajo y tu capacidad para realizar análisis de datos complejos. <strong>¡Ánimo y esperamos tu proyecto con las correcciones!</strong>\n",
    "</div>\n"
   ]
  },
  {
   "cell_type": "markdown",
   "metadata": {},
   "source": [
    "<div class=\"alert alert-block alert-info\">\n",
    "<b>Agradezco el feedback constructivo!\n",
    "    <br> He agregado una tabla de contenido, que mejora la presentación y estructura del análisis.\n",
    "    \n",
    "Tienes razón en que la selección de características es crucial para el rendimiento del modelo, de hecho, ya he aplicado algunos enfoques iniciales, como un análisis de correlación y un mapa de calor, que han sido útiles para identificar variables altamente correlacionadas y posibles redundancias. Estos análisis complementan el filtrado y limpieza de datos que realicé desde el principio, antes del análisis exploratorio. Para mí, es más efectivo tener todo ordenado y limpio antes de profundizar en el análisis.\n",
    "  <br>\n",
    "    <br>He tratado de refinar aún más mi conjunto de características, eliminando variables redundantes o poco relevantes, para optimizar la precisión y eficiencia de los modelos.\n",
    "   <br> \n",
    "    <br>Me he asegurado también que al enviarte el proyecto se cargen todas lase secciones con las celdas ejecutadas, mis disculpas por eso. Gracias!<br>\n",
    "    </b> <a class=“tocSkip”></a>\n",
    "</div>"
   ]
  },
  {
   "cell_type": "markdown",
   "metadata": {},
   "source": [
    "<div class=\"alert alert-block alert-success\">\n",
    "<b>Comentario del revisor</b> <a class=\"tocSkip\"></a>\n",
    "\n",
    "¡Felicidades por completar tu proyecto final con tal maestría! 🎉 **Tu proyecto ha sido exitosamente aprobado.**<br>\n",
    "Tu compromiso y meticuloso enfoque en cada aspecto del análisis son realmente impresionantes.<br>\n",
    "<br>Este logro marca un momento significativo en tu aprendizaje, demostrando no solo tu comprensión de los conceptos complejos, sino también tu capacidad para aplicarlos de manera práctica. Espero que este éxito impulse tu confianza y te inspire a seguir explorando y conquistando nuevos retos. ¡Sigue adelante con el excelente trabajo!\n",
    "</div>"
   ]
  }
 ],
 "metadata": {
  "kernelspec": {
   "display_name": "Python 3 (ipykernel)",
   "language": "python",
   "name": "python3"
  },
  "language_info": {
   "codemirror_mode": {
    "name": "ipython",
    "version": 3
   },
   "file_extension": ".py",
   "mimetype": "text/x-python",
   "name": "python",
   "nbconvert_exporter": "python",
   "pygments_lexer": "ipython3",
   "version": "3.9.19"
  },
  "toc": {
   "base_numbering": 1,
   "nav_menu": {},
   "number_sections": true,
   "sideBar": true,
   "skip_h1_title": true,
   "title_cell": "Table of Contents",
   "title_sidebar": "Contents",
   "toc_cell": false,
   "toc_position": {},
   "toc_section_display": true,
   "toc_window_display": false
  }
 },
 "nbformat": 4,
 "nbformat_minor": 2
}
